{
  "cells": [
    {
      "metadata": {
        "_uuid": "7d40c6789efc71f68944bb527e118e212b087d96"
      },
      "cell_type": "markdown",
      "source": "# https://www.kaggle.com/pmarcelino/comprehensive-data-exploration-with-python\nhttps://www.kaggle.com/serigne/stacked-regressions-top-4-on-leaderboard/notebook"
    },
    {
      "metadata": {
        "_uuid": "8f2839f25d086af736a60e9eeb907d3b93b6e0e5",
        "_cell_guid": "b1076dfc-b9ad-4769-8c92-a6c4dae69d19",
        "trusted": true
      },
      "cell_type": "code",
      "source": "# This Python 3 environment comes with many helpful analytics libraries installed\n# It is defined by the kaggle/python docker image: https://github.com/kaggle/docker-python\n# For example, here's several helpful packages to load in \n\nimport numpy as np # linear algebra\nimport pandas as pd # data processing, CSV file I/O (e.g. pd.read_csv)\n\n# Input data files are available in the \"../input/\" directory.\n# For example, running this (by clicking run or pressing Shift+Enter) will list the files in the input directory\n\nimport os\nimport matplotlib.pyplot as plt\nimport seaborn as sbn\nfrom scipy.stats import norm\nfrom sklearn.preprocessing import StandardScaler\nfrom scipy import stats\nimport warnings\nwarnings.filterwarnings('ignore')\n%matplotlib inline\n\n# Any results you write to the current directory are saved as output.\nprint(os.listdir(\"../input\"))",
      "execution_count": 52,
      "outputs": [
        {
          "output_type": "stream",
          "text": "['train.csv', 'sample_submission.csv', 'test.csv']\n",
          "name": "stdout"
        }
      ]
    },
    {
      "metadata": {
        "_cell_guid": "79c7e3d0-c299-4dcb-8224-4455121ee9b0",
        "_uuid": "d629ff2d2480ee46fbb7e2d37f6b5fab8052498a",
        "trusted": true
      },
      "cell_type": "code",
      "source": "os.listdir(\"../input\")",
      "execution_count": null,
      "outputs": []
    },
    {
      "metadata": {
        "trusted": true,
        "_uuid": "ea8979628516331774076cdeffca667c045fa826"
      },
      "cell_type": "code",
      "source": "df_train = pd.read_csv(\"../input/train.csv\")",
      "execution_count": null,
      "outputs": []
    },
    {
      "metadata": {
        "trusted": true,
        "_uuid": "c1ebaa2740329b5f5929f1cff9ad4887587d4d53"
      },
      "cell_type": "code",
      "source": "df_test = pd.read_csv(\"../input/test.csv\")",
      "execution_count": null,
      "outputs": []
    },
    {
      "metadata": {
        "trusted": true,
        "_uuid": "6f6d021a193f41b43698fe208f8c155cecb86d93"
      },
      "cell_type": "code",
      "source": "df_test.head()",
      "execution_count": null,
      "outputs": []
    },
    {
      "metadata": {
        "trusted": true,
        "_uuid": "b935ae64ab01039fca3a7add8ba35f95d6434b3b"
      },
      "cell_type": "code",
      "source": "df_train.head()",
      "execution_count": null,
      "outputs": []
    },
    {
      "metadata": {
        "trusted": true,
        "_uuid": "7c4766da58fb130feda475dbadbae66e092423ac"
      },
      "cell_type": "code",
      "source": "df_train['SalePrice'].describe()",
      "execution_count": null,
      "outputs": []
    },
    {
      "metadata": {
        "trusted": true,
        "_uuid": "7e4d0048b95a49ed9b7830923b3d587445101f30"
      },
      "cell_type": "code",
      "source": "sbn.distplot(df_train['SalePrice'])",
      "execution_count": null,
      "outputs": []
    },
    {
      "metadata": {
        "trusted": true,
        "_uuid": "86fcf29cf9636433f5987b8f2ffb973a6cee21fd"
      },
      "cell_type": "code",
      "source": "print(\"Skewness is %f\"% df_train['SalePrice'].skew())\nprint(\"Kurtosys is %f\"% df_train['SalePrice'].kurt())",
      "execution_count": null,
      "outputs": []
    },
    {
      "metadata": {
        "trusted": true,
        "_uuid": "d1decc3230a8245029dc41ea1f3fd1232c7d5744"
      },
      "cell_type": "code",
      "source": "var='GrLivArea'\nplt.scatter(df_train[var],df_train['SalePrice'])",
      "execution_count": null,
      "outputs": []
    },
    {
      "metadata": {
        "trusted": true,
        "_uuid": "a2ed0b1f659152fa6a0e8201be8015727107f412"
      },
      "cell_type": "code",
      "source": "var='TotalBsmtSF'\nplt.scatter(df_train[var],df_train['SalePrice'])",
      "execution_count": null,
      "outputs": []
    },
    {
      "metadata": {
        "trusted": true,
        "_uuid": "b3c807b4ccba2db67f6cb1faae62cfd797bcdd36"
      },
      "cell_type": "code",
      "source": "#box plot overallqual/saleprice\nvar = 'OverallQual'\ndata = pd.concat([df_train['SalePrice'], df_train[var]], axis=1)\nf, ax = plt.subplots(figsize=(8, 6))\nfig = sbn.boxplot(x=var, y=\"SalePrice\", data=data)\nfig.axis(ymin=0, ymax=800000);",
      "execution_count": null,
      "outputs": []
    },
    {
      "metadata": {
        "trusted": true,
        "_uuid": "eba230f8e16a048770fd83e743bde0123570f137"
      },
      "cell_type": "code",
      "source": "#scatterplot\nsbn.set()\ncols = ['SalePrice', 'OverallQual', 'GrLivArea', 'GarageCars', 'TotalBsmtSF', 'FullBath', 'YearBuilt']\nsbn.pairplot(df_train[cols], size = 2.5)\nplt.show();",
      "execution_count": null,
      "outputs": []
    },
    {
      "metadata": {
        "trusted": true,
        "_uuid": "71d0d09d7bbc3299d2abdcaa68f9947f607c4c88"
      },
      "cell_type": "code",
      "source": "#missing data\ntotal = df_train.isnull().sum().sort_values(ascending=False)\npercent = (df_train.isnull().sum()/len(df_train)).sort_values(ascending=False)\nmissing_data = pd.concat([total, percent], axis=1, keys=['Total', 'Percent'])\nmissing_data.head(20)",
      "execution_count": null,
      "outputs": []
    },
    {
      "metadata": {
        "trusted": true,
        "scrolled": false,
        "_uuid": "f8340fc311b7a7e4ad18e4e0921fddcc3b0cc890"
      },
      "cell_type": "code",
      "source": "(missing_data[missing_data['Total'] > 1]).index",
      "execution_count": null,
      "outputs": []
    },
    {
      "metadata": {
        "trusted": true,
        "_uuid": "1587bc0155cbbdd95fe3801a3366c48c387694c6"
      },
      "cell_type": "code",
      "source": "#dealing with missing data\ndf_train = df_train.drop((missing_data[missing_data['Total'] > 1]).index,1)\ndf_train = df_train.drop(df_train.loc[df_train['Electrical'].isnull()].index)\ndf_train.isnull().sum().max()",
      "execution_count": null,
      "outputs": []
    },
    {
      "metadata": {
        "trusted": true,
        "_uuid": "d3abf914d2810b3fe1ebb628016242b10886fd0c"
      },
      "cell_type": "code",
      "source": "#standardizing data\nsaleprice_scaled = StandardScaler().fit_transform(df_train['SalePrice'][:,np.newaxis]);\nlow_range = saleprice_scaled[saleprice_scaled[:,0].argsort()][:10]\nhigh_range= saleprice_scaled[saleprice_scaled[:,0].argsort()][-10:]\nprint('outer range (low) of the distribution:')\nprint(low_range)\nprint('\\nouter range (high) of the distribution:')\nprint(high_range)",
      "execution_count": null,
      "outputs": []
    },
    {
      "metadata": {
        "trusted": true,
        "_uuid": "c7c574a76de3afff8a6851a7f44718e6000c9335"
      },
      "cell_type": "code",
      "source": "#bivariate analysis saleprice/grlivarea\nvar = 'GrLivArea'\ndata = pd.concat([df_train['SalePrice'], df_train[var]], axis=1)\ndata.plot.scatter(x=var, y='SalePrice', ylim=(0,800000));",
      "execution_count": null,
      "outputs": []
    },
    {
      "metadata": {
        "_uuid": "047e2b2f7113c7e3e61c2ebbf5896f49e5a4a8d5"
      },
      "cell_type": "markdown",
      "source": "# We need to delete the 2 points on the top and the 2 on the right as they are outliers"
    },
    {
      "metadata": {
        "trusted": true,
        "_uuid": "f619ecaa588c360f22dfb0b5ebb2bea0ec51c6c3"
      },
      "cell_type": "code",
      "source": "#deleting points\ndf_train.sort_values(by = 'GrLivArea', ascending = False)[:2]",
      "execution_count": null,
      "outputs": []
    },
    {
      "metadata": {
        "trusted": true,
        "_uuid": "748e0cf252369a42486ccd7563c74a44896e42e1"
      },
      "cell_type": "code",
      "source": "df_train = df_train.drop(df_train[df_train['Id'] == 1299].index)\ndf_train = df_train.drop(df_train[df_train['Id'] == 524].index)",
      "execution_count": null,
      "outputs": []
    },
    {
      "metadata": {
        "trusted": true,
        "_uuid": "c67597be4ad7c46bffd9bf4b402fa35cf8ccb48a"
      },
      "cell_type": "code",
      "source": "#bivariate analysis saleprice/grlivarea\nvar = 'TotalBsmtSF'\ndata = pd.concat([df_train['SalePrice'], df_train[var]], axis=1)\ndata.plot.scatter(x=var, y='SalePrice', ylim=(0,800000));",
      "execution_count": null,
      "outputs": []
    },
    {
      "metadata": {
        "trusted": true,
        "_uuid": "7403270d0fc21fa456ffda43d18b1bfa261d0f37"
      },
      "cell_type": "code",
      "source": "#histogram and normal probability plot\nsbn.distplot(df_train['SalePrice'], fit=norm);\nfig = plt.figure()\nres = stats.probplot(df_train['SalePrice'], plot=plt)",
      "execution_count": null,
      "outputs": []
    },
    {
      "metadata": {
        "_uuid": "636964cc6d4c8c3b75ff48dcb0183aff86c793c8"
      },
      "cell_type": "markdown",
      "source": "# applying log on Sale price to make it normal distributed"
    },
    {
      "metadata": {
        "trusted": true,
        "_uuid": "f83db604e2244dd0671f85af71d911fe16302003"
      },
      "cell_type": "code",
      "source": "#applying log transformation\ndf_train['SalePrice'] = np.log(df_train['SalePrice'])",
      "execution_count": null,
      "outputs": []
    },
    {
      "metadata": {
        "trusted": true,
        "_uuid": "ea7ee46b98b1c966769cdc156e73b8bf31e70d15"
      },
      "cell_type": "code",
      "source": "#transformed histogram and normal probability plot\nsbn.distplot(df_train['SalePrice'], fit=norm);\nfig = plt.figure()\nres = stats.probplot(df_train['SalePrice'], plot=plt)",
      "execution_count": null,
      "outputs": []
    },
    {
      "metadata": {
        "trusted": true,
        "_uuid": "4b62e64cc01739b0b9d9dfe093ee8a217e55cee6"
      },
      "cell_type": "code",
      "source": "#histogram and normal probability plot\nsbn.distplot(df_train['GrLivArea'], fit=norm);\nfig = plt.figure()\nres = stats.probplot(df_train['GrLivArea'], plot=plt)",
      "execution_count": null,
      "outputs": []
    },
    {
      "metadata": {
        "trusted": true,
        "_uuid": "f80ad5db7053e9a970ebfc9cea5eb78e4c8a3e7b"
      },
      "cell_type": "code",
      "source": "df_train['GrLivArea'] = np.log(df_train['GrLivArea'])",
      "execution_count": null,
      "outputs": []
    },
    {
      "metadata": {
        "trusted": true,
        "_uuid": "e5fa080b42dabbcd4862dd65460d314d04b1e3f8"
      },
      "cell_type": "code",
      "source": "#histogram and normal probability plot\nsbn.distplot(df_train['GrLivArea'], fit=norm);\nfig = plt.figure()\nres = stats.probplot(df_train['GrLivArea'], plot=plt)",
      "execution_count": null,
      "outputs": []
    },
    {
      "metadata": {
        "trusted": true,
        "_uuid": "e1205e5dda26c68bca12c041280e3b4c5e810fbc"
      },
      "cell_type": "code",
      "source": "#histogram and normal probability plot\nsbn.distplot(df_train['TotalBsmtSF'], fit=norm);\nfig = plt.figure()\nres = stats.probplot(df_train['TotalBsmtSF'], plot=plt)",
      "execution_count": null,
      "outputs": []
    },
    {
      "metadata": {
        "_uuid": "64623ca964303add312af1c5bf97327df252228a"
      },
      "cell_type": "markdown",
      "source": "Transforming some numerical variables that are really categorical"
    },
    {
      "metadata": {
        "trusted": true,
        "_uuid": "85b5f1b4499ac48aaf017d6e3c3e51281e5c4f7e"
      },
      "cell_type": "code",
      "source": "#MSSubClass=The building class\ndf_train['MSSubClass'] = df_train['MSSubClass'].apply(str)\n\n\n#Changing OverallCond into a categorical variable\ndf_train['OverallCond'] = df_train['OverallCond'].astype(str)\n\n\n#Year and month sold are transformed into categorical features.\ndf_train['YrSold'] = df_train['YrSold'].astype(str)\ndf_train['MoSold'] = df_train['MoSold'].astype(str)",
      "execution_count": null,
      "outputs": []
    },
    {
      "metadata": {
        "_uuid": "03c6403f30f843d83caa43cd05d295b572198f39"
      },
      "cell_type": "markdown",
      "source": "# Label Encoding Categorical Variables."
    },
    {
      "metadata": {
        "trusted": true,
        "_uuid": "1c69aa5bb37474dc151fcacae9e7fddd6af429b2"
      },
      "cell_type": "code",
      "source": "#convert categorical variable into dummy\ndf_train = pd.get_dummies(df_train)\n\n# shape        \nprint('Shape all_data: {}'.format(df_train.shape))",
      "execution_count": null,
      "outputs": []
    },
    {
      "metadata": {
        "_uuid": "3a5dc12333acc61dd036dc0e22d4ded7f7041d6b"
      },
      "cell_type": "markdown",
      "source": "Adding one more important feature\n\nSince area related features are very important to determine house prices, we add one more feature which is the total area of basement, first and second floor areas of each house"
    },
    {
      "metadata": {
        "trusted": true,
        "_uuid": "4a0ccffb7892f9e066cd2effff2db3e969c38bc9"
      },
      "cell_type": "code",
      "source": "# Adding total sqfootage feature \ndf_train['TotalSF'] = df_train['TotalBsmtSF'] + df_train['1stFlrSF'] + df_train['2ndFlrSF']",
      "execution_count": null,
      "outputs": []
    },
    {
      "metadata": {
        "trusted": true,
        "_uuid": "98938e099c13e0f19a4f75149444a9f76d88ec9f"
      },
      "cell_type": "code",
      "source": "df_train.shape[0]",
      "execution_count": null,
      "outputs": []
    },
    {
      "metadata": {
        "trusted": true,
        "_uuid": "df63a2d10cb976eeb6784b0a72a41be6b3e9afba"
      },
      "cell_type": "code",
      "source": "import pandas as pd\nimport numpy as np\nimport seaborn as sns\nimport matplotlib\n\nimport matplotlib.pyplot as plt\nfrom scipy.stats import skew\nfrom scipy.stats.stats import pearsonr\n\n\n%config InlineBackend.figure_format = 'retina' #set 'png' here when working on notebook\n%matplotlib inline",
      "execution_count": 1,
      "outputs": []
    },
    {
      "metadata": {
        "trusted": true,
        "_uuid": "344a920e135327dff9253cde1bc5369894097d2b"
      },
      "cell_type": "code",
      "source": "train = pd.read_csv(\"../input/train.csv\")\ntest = pd.read_csv(\"../input/test.csv\")",
      "execution_count": 2,
      "outputs": []
    },
    {
      "metadata": {
        "trusted": true,
        "_uuid": "b0a4886b8613af2da0a0613b87cb52f25c400a1c"
      },
      "cell_type": "code",
      "source": "train.head()",
      "execution_count": 3,
      "outputs": [
        {
          "output_type": "execute_result",
          "execution_count": 3,
          "data": {
            "text/plain": "   Id  MSSubClass MSZoning    ...     SaleType  SaleCondition SalePrice\n0   1          60       RL    ...           WD         Normal    208500\n1   2          20       RL    ...           WD         Normal    181500\n2   3          60       RL    ...           WD         Normal    223500\n3   4          70       RL    ...           WD        Abnorml    140000\n4   5          60       RL    ...           WD         Normal    250000\n\n[5 rows x 81 columns]",
            "text/html": "<div>\n<style scoped>\n    .dataframe tbody tr th:only-of-type {\n        vertical-align: middle;\n    }\n\n    .dataframe tbody tr th {\n        vertical-align: top;\n    }\n\n    .dataframe thead th {\n        text-align: right;\n    }\n</style>\n<table border=\"1\" class=\"dataframe\">\n  <thead>\n    <tr style=\"text-align: right;\">\n      <th></th>\n      <th>Id</th>\n      <th>MSSubClass</th>\n      <th>MSZoning</th>\n      <th>LotFrontage</th>\n      <th>LotArea</th>\n      <th>Street</th>\n      <th>Alley</th>\n      <th>LotShape</th>\n      <th>LandContour</th>\n      <th>Utilities</th>\n      <th>LotConfig</th>\n      <th>LandSlope</th>\n      <th>Neighborhood</th>\n      <th>Condition1</th>\n      <th>Condition2</th>\n      <th>BldgType</th>\n      <th>HouseStyle</th>\n      <th>OverallQual</th>\n      <th>OverallCond</th>\n      <th>YearBuilt</th>\n      <th>YearRemodAdd</th>\n      <th>RoofStyle</th>\n      <th>RoofMatl</th>\n      <th>Exterior1st</th>\n      <th>Exterior2nd</th>\n      <th>MasVnrType</th>\n      <th>MasVnrArea</th>\n      <th>ExterQual</th>\n      <th>ExterCond</th>\n      <th>Foundation</th>\n      <th>BsmtQual</th>\n      <th>BsmtCond</th>\n      <th>BsmtExposure</th>\n      <th>BsmtFinType1</th>\n      <th>BsmtFinSF1</th>\n      <th>BsmtFinType2</th>\n      <th>BsmtFinSF2</th>\n      <th>BsmtUnfSF</th>\n      <th>TotalBsmtSF</th>\n      <th>Heating</th>\n      <th>...</th>\n      <th>CentralAir</th>\n      <th>Electrical</th>\n      <th>1stFlrSF</th>\n      <th>2ndFlrSF</th>\n      <th>LowQualFinSF</th>\n      <th>GrLivArea</th>\n      <th>BsmtFullBath</th>\n      <th>BsmtHalfBath</th>\n      <th>FullBath</th>\n      <th>HalfBath</th>\n      <th>BedroomAbvGr</th>\n      <th>KitchenAbvGr</th>\n      <th>KitchenQual</th>\n      <th>TotRmsAbvGrd</th>\n      <th>Functional</th>\n      <th>Fireplaces</th>\n      <th>FireplaceQu</th>\n      <th>GarageType</th>\n      <th>GarageYrBlt</th>\n      <th>GarageFinish</th>\n      <th>GarageCars</th>\n      <th>GarageArea</th>\n      <th>GarageQual</th>\n      <th>GarageCond</th>\n      <th>PavedDrive</th>\n      <th>WoodDeckSF</th>\n      <th>OpenPorchSF</th>\n      <th>EnclosedPorch</th>\n      <th>3SsnPorch</th>\n      <th>ScreenPorch</th>\n      <th>PoolArea</th>\n      <th>PoolQC</th>\n      <th>Fence</th>\n      <th>MiscFeature</th>\n      <th>MiscVal</th>\n      <th>MoSold</th>\n      <th>YrSold</th>\n      <th>SaleType</th>\n      <th>SaleCondition</th>\n      <th>SalePrice</th>\n    </tr>\n  </thead>\n  <tbody>\n    <tr>\n      <th>0</th>\n      <td>1</td>\n      <td>60</td>\n      <td>RL</td>\n      <td>65.0</td>\n      <td>8450</td>\n      <td>Pave</td>\n      <td>NaN</td>\n      <td>Reg</td>\n      <td>Lvl</td>\n      <td>AllPub</td>\n      <td>Inside</td>\n      <td>Gtl</td>\n      <td>CollgCr</td>\n      <td>Norm</td>\n      <td>Norm</td>\n      <td>1Fam</td>\n      <td>2Story</td>\n      <td>7</td>\n      <td>5</td>\n      <td>2003</td>\n      <td>2003</td>\n      <td>Gable</td>\n      <td>CompShg</td>\n      <td>VinylSd</td>\n      <td>VinylSd</td>\n      <td>BrkFace</td>\n      <td>196.0</td>\n      <td>Gd</td>\n      <td>TA</td>\n      <td>PConc</td>\n      <td>Gd</td>\n      <td>TA</td>\n      <td>No</td>\n      <td>GLQ</td>\n      <td>706</td>\n      <td>Unf</td>\n      <td>0</td>\n      <td>150</td>\n      <td>856</td>\n      <td>GasA</td>\n      <td>...</td>\n      <td>Y</td>\n      <td>SBrkr</td>\n      <td>856</td>\n      <td>854</td>\n      <td>0</td>\n      <td>1710</td>\n      <td>1</td>\n      <td>0</td>\n      <td>2</td>\n      <td>1</td>\n      <td>3</td>\n      <td>1</td>\n      <td>Gd</td>\n      <td>8</td>\n      <td>Typ</td>\n      <td>0</td>\n      <td>NaN</td>\n      <td>Attchd</td>\n      <td>2003.0</td>\n      <td>RFn</td>\n      <td>2</td>\n      <td>548</td>\n      <td>TA</td>\n      <td>TA</td>\n      <td>Y</td>\n      <td>0</td>\n      <td>61</td>\n      <td>0</td>\n      <td>0</td>\n      <td>0</td>\n      <td>0</td>\n      <td>NaN</td>\n      <td>NaN</td>\n      <td>NaN</td>\n      <td>0</td>\n      <td>2</td>\n      <td>2008</td>\n      <td>WD</td>\n      <td>Normal</td>\n      <td>208500</td>\n    </tr>\n    <tr>\n      <th>1</th>\n      <td>2</td>\n      <td>20</td>\n      <td>RL</td>\n      <td>80.0</td>\n      <td>9600</td>\n      <td>Pave</td>\n      <td>NaN</td>\n      <td>Reg</td>\n      <td>Lvl</td>\n      <td>AllPub</td>\n      <td>FR2</td>\n      <td>Gtl</td>\n      <td>Veenker</td>\n      <td>Feedr</td>\n      <td>Norm</td>\n      <td>1Fam</td>\n      <td>1Story</td>\n      <td>6</td>\n      <td>8</td>\n      <td>1976</td>\n      <td>1976</td>\n      <td>Gable</td>\n      <td>CompShg</td>\n      <td>MetalSd</td>\n      <td>MetalSd</td>\n      <td>None</td>\n      <td>0.0</td>\n      <td>TA</td>\n      <td>TA</td>\n      <td>CBlock</td>\n      <td>Gd</td>\n      <td>TA</td>\n      <td>Gd</td>\n      <td>ALQ</td>\n      <td>978</td>\n      <td>Unf</td>\n      <td>0</td>\n      <td>284</td>\n      <td>1262</td>\n      <td>GasA</td>\n      <td>...</td>\n      <td>Y</td>\n      <td>SBrkr</td>\n      <td>1262</td>\n      <td>0</td>\n      <td>0</td>\n      <td>1262</td>\n      <td>0</td>\n      <td>1</td>\n      <td>2</td>\n      <td>0</td>\n      <td>3</td>\n      <td>1</td>\n      <td>TA</td>\n      <td>6</td>\n      <td>Typ</td>\n      <td>1</td>\n      <td>TA</td>\n      <td>Attchd</td>\n      <td>1976.0</td>\n      <td>RFn</td>\n      <td>2</td>\n      <td>460</td>\n      <td>TA</td>\n      <td>TA</td>\n      <td>Y</td>\n      <td>298</td>\n      <td>0</td>\n      <td>0</td>\n      <td>0</td>\n      <td>0</td>\n      <td>0</td>\n      <td>NaN</td>\n      <td>NaN</td>\n      <td>NaN</td>\n      <td>0</td>\n      <td>5</td>\n      <td>2007</td>\n      <td>WD</td>\n      <td>Normal</td>\n      <td>181500</td>\n    </tr>\n    <tr>\n      <th>2</th>\n      <td>3</td>\n      <td>60</td>\n      <td>RL</td>\n      <td>68.0</td>\n      <td>11250</td>\n      <td>Pave</td>\n      <td>NaN</td>\n      <td>IR1</td>\n      <td>Lvl</td>\n      <td>AllPub</td>\n      <td>Inside</td>\n      <td>Gtl</td>\n      <td>CollgCr</td>\n      <td>Norm</td>\n      <td>Norm</td>\n      <td>1Fam</td>\n      <td>2Story</td>\n      <td>7</td>\n      <td>5</td>\n      <td>2001</td>\n      <td>2002</td>\n      <td>Gable</td>\n      <td>CompShg</td>\n      <td>VinylSd</td>\n      <td>VinylSd</td>\n      <td>BrkFace</td>\n      <td>162.0</td>\n      <td>Gd</td>\n      <td>TA</td>\n      <td>PConc</td>\n      <td>Gd</td>\n      <td>TA</td>\n      <td>Mn</td>\n      <td>GLQ</td>\n      <td>486</td>\n      <td>Unf</td>\n      <td>0</td>\n      <td>434</td>\n      <td>920</td>\n      <td>GasA</td>\n      <td>...</td>\n      <td>Y</td>\n      <td>SBrkr</td>\n      <td>920</td>\n      <td>866</td>\n      <td>0</td>\n      <td>1786</td>\n      <td>1</td>\n      <td>0</td>\n      <td>2</td>\n      <td>1</td>\n      <td>3</td>\n      <td>1</td>\n      <td>Gd</td>\n      <td>6</td>\n      <td>Typ</td>\n      <td>1</td>\n      <td>TA</td>\n      <td>Attchd</td>\n      <td>2001.0</td>\n      <td>RFn</td>\n      <td>2</td>\n      <td>608</td>\n      <td>TA</td>\n      <td>TA</td>\n      <td>Y</td>\n      <td>0</td>\n      <td>42</td>\n      <td>0</td>\n      <td>0</td>\n      <td>0</td>\n      <td>0</td>\n      <td>NaN</td>\n      <td>NaN</td>\n      <td>NaN</td>\n      <td>0</td>\n      <td>9</td>\n      <td>2008</td>\n      <td>WD</td>\n      <td>Normal</td>\n      <td>223500</td>\n    </tr>\n    <tr>\n      <th>3</th>\n      <td>4</td>\n      <td>70</td>\n      <td>RL</td>\n      <td>60.0</td>\n      <td>9550</td>\n      <td>Pave</td>\n      <td>NaN</td>\n      <td>IR1</td>\n      <td>Lvl</td>\n      <td>AllPub</td>\n      <td>Corner</td>\n      <td>Gtl</td>\n      <td>Crawfor</td>\n      <td>Norm</td>\n      <td>Norm</td>\n      <td>1Fam</td>\n      <td>2Story</td>\n      <td>7</td>\n      <td>5</td>\n      <td>1915</td>\n      <td>1970</td>\n      <td>Gable</td>\n      <td>CompShg</td>\n      <td>Wd Sdng</td>\n      <td>Wd Shng</td>\n      <td>None</td>\n      <td>0.0</td>\n      <td>TA</td>\n      <td>TA</td>\n      <td>BrkTil</td>\n      <td>TA</td>\n      <td>Gd</td>\n      <td>No</td>\n      <td>ALQ</td>\n      <td>216</td>\n      <td>Unf</td>\n      <td>0</td>\n      <td>540</td>\n      <td>756</td>\n      <td>GasA</td>\n      <td>...</td>\n      <td>Y</td>\n      <td>SBrkr</td>\n      <td>961</td>\n      <td>756</td>\n      <td>0</td>\n      <td>1717</td>\n      <td>1</td>\n      <td>0</td>\n      <td>1</td>\n      <td>0</td>\n      <td>3</td>\n      <td>1</td>\n      <td>Gd</td>\n      <td>7</td>\n      <td>Typ</td>\n      <td>1</td>\n      <td>Gd</td>\n      <td>Detchd</td>\n      <td>1998.0</td>\n      <td>Unf</td>\n      <td>3</td>\n      <td>642</td>\n      <td>TA</td>\n      <td>TA</td>\n      <td>Y</td>\n      <td>0</td>\n      <td>35</td>\n      <td>272</td>\n      <td>0</td>\n      <td>0</td>\n      <td>0</td>\n      <td>NaN</td>\n      <td>NaN</td>\n      <td>NaN</td>\n      <td>0</td>\n      <td>2</td>\n      <td>2006</td>\n      <td>WD</td>\n      <td>Abnorml</td>\n      <td>140000</td>\n    </tr>\n    <tr>\n      <th>4</th>\n      <td>5</td>\n      <td>60</td>\n      <td>RL</td>\n      <td>84.0</td>\n      <td>14260</td>\n      <td>Pave</td>\n      <td>NaN</td>\n      <td>IR1</td>\n      <td>Lvl</td>\n      <td>AllPub</td>\n      <td>FR2</td>\n      <td>Gtl</td>\n      <td>NoRidge</td>\n      <td>Norm</td>\n      <td>Norm</td>\n      <td>1Fam</td>\n      <td>2Story</td>\n      <td>8</td>\n      <td>5</td>\n      <td>2000</td>\n      <td>2000</td>\n      <td>Gable</td>\n      <td>CompShg</td>\n      <td>VinylSd</td>\n      <td>VinylSd</td>\n      <td>BrkFace</td>\n      <td>350.0</td>\n      <td>Gd</td>\n      <td>TA</td>\n      <td>PConc</td>\n      <td>Gd</td>\n      <td>TA</td>\n      <td>Av</td>\n      <td>GLQ</td>\n      <td>655</td>\n      <td>Unf</td>\n      <td>0</td>\n      <td>490</td>\n      <td>1145</td>\n      <td>GasA</td>\n      <td>...</td>\n      <td>Y</td>\n      <td>SBrkr</td>\n      <td>1145</td>\n      <td>1053</td>\n      <td>0</td>\n      <td>2198</td>\n      <td>1</td>\n      <td>0</td>\n      <td>2</td>\n      <td>1</td>\n      <td>4</td>\n      <td>1</td>\n      <td>Gd</td>\n      <td>9</td>\n      <td>Typ</td>\n      <td>1</td>\n      <td>TA</td>\n      <td>Attchd</td>\n      <td>2000.0</td>\n      <td>RFn</td>\n      <td>3</td>\n      <td>836</td>\n      <td>TA</td>\n      <td>TA</td>\n      <td>Y</td>\n      <td>192</td>\n      <td>84</td>\n      <td>0</td>\n      <td>0</td>\n      <td>0</td>\n      <td>0</td>\n      <td>NaN</td>\n      <td>NaN</td>\n      <td>NaN</td>\n      <td>0</td>\n      <td>12</td>\n      <td>2008</td>\n      <td>WD</td>\n      <td>Normal</td>\n      <td>250000</td>\n    </tr>\n  </tbody>\n</table>\n</div>"
          },
          "metadata": {}
        }
      ]
    },
    {
      "metadata": {
        "trusted": true,
        "_uuid": "39429ff5a864931ab659876b2205b10b2f3af3c9"
      },
      "cell_type": "code",
      "source": "all_data = pd.concat((train.loc[:,'MSSubClass':'SaleCondition'],\n                      test.loc[:,'MSSubClass':'SaleCondition']))",
      "execution_count": 4,
      "outputs": []
    },
    {
      "metadata": {
        "trusted": true,
        "_uuid": "a2e6c4f6643b807e3a35c56211897a8315509168"
      },
      "cell_type": "code",
      "source": "#log transform the target:\ntrain[\"SalePrice\"] = np.log1p(train[\"SalePrice\"])",
      "execution_count": 5,
      "outputs": []
    },
    {
      "metadata": {
        "trusted": true,
        "_uuid": "ba19a8969dd908c3fec304de7de11f1d14b331f2"
      },
      "cell_type": "code",
      "source": "#log transform skewed numeric features:\nnumeric_feats = all_data.dtypes[all_data.dtypes != \"object\"].index",
      "execution_count": 7,
      "outputs": []
    },
    {
      "metadata": {
        "trusted": true,
        "_uuid": "c5af31fcf958dd83349a714cc53ec6add5c15108"
      },
      "cell_type": "code",
      "source": "skewed_feats = train[numeric_feats].apply(lambda x: skew(x.dropna())) #compute skewness",
      "execution_count": 16,
      "outputs": []
    },
    {
      "metadata": {
        "trusted": true,
        "_uuid": "59ad3db010d82e4e71d7ca8d39589a3cbab220f0"
      },
      "cell_type": "code",
      "source": "skewed_feats.index",
      "execution_count": 17,
      "outputs": [
        {
          "output_type": "execute_result",
          "execution_count": 17,
          "data": {
            "text/plain": "Index(['MSSubClass', 'LotFrontage', 'LotArea', 'OverallQual', 'OverallCond',\n       'YearBuilt', 'YearRemodAdd', 'MasVnrArea', 'BsmtFinSF1', 'BsmtFinSF2',\n       'BsmtUnfSF', 'TotalBsmtSF', '1stFlrSF', '2ndFlrSF', 'LowQualFinSF',\n       'GrLivArea', 'BsmtFullBath', 'BsmtHalfBath', 'FullBath', 'HalfBath',\n       'BedroomAbvGr', 'KitchenAbvGr', 'TotRmsAbvGrd', 'Fireplaces',\n       'GarageYrBlt', 'GarageCars', 'GarageArea', 'WoodDeckSF', 'OpenPorchSF',\n       'EnclosedPorch', '3SsnPorch', 'ScreenPorch', 'PoolArea', 'MiscVal',\n       'MoSold', 'YrSold'],\n      dtype='object')"
          },
          "metadata": {}
        }
      ]
    },
    {
      "metadata": {
        "trusted": true,
        "_uuid": "b8da1e196c29f3c6b37cf1b391df74f947624a77"
      },
      "cell_type": "code",
      "source": "skewed_feats = skewed_feats[skewed_feats > 0.75]",
      "execution_count": 18,
      "outputs": []
    },
    {
      "metadata": {
        "trusted": true,
        "_uuid": "a6a35be1c34f1e7425c7c1e39343f0a89ec06519"
      },
      "cell_type": "code",
      "source": "skewed_feats = skewed_feats.index",
      "execution_count": 19,
      "outputs": []
    },
    {
      "metadata": {
        "trusted": true,
        "_uuid": "7b460becc14bf6cb2ec28d1e755ac7d3e54e5e04"
      },
      "cell_type": "code",
      "source": "all_data[skewed_feats] = np.log1p(all_data[skewed_feats])",
      "execution_count": 22,
      "outputs": []
    },
    {
      "metadata": {
        "trusted": true,
        "_uuid": "562988ef16a8af902f0c488770ba714f3215d7c1"
      },
      "cell_type": "code",
      "source": "all_data = pd.get_dummies(all_data)",
      "execution_count": 23,
      "outputs": []
    },
    {
      "metadata": {
        "trusted": true,
        "_uuid": "2deaa891c985364d8493cdf08f871e5ebcbef4f7"
      },
      "cell_type": "code",
      "source": "#filling NA's with the mean of the column:\nall_data = all_data.fillna(all_data.mean())",
      "execution_count": 24,
      "outputs": []
    },
    {
      "metadata": {
        "trusted": true,
        "_uuid": "3be1263fd285443b359b18ad5842744a12916794"
      },
      "cell_type": "code",
      "source": "#creating matrices for sklearn:\nX_train = all_data[:train.shape[0]]\nX_test = all_data[train.shape[0]:]\ny = train.SalePrice",
      "execution_count": 25,
      "outputs": []
    },
    {
      "metadata": {
        "_uuid": "8ee183d0ffdedac074cff84cbf08ca8789eade1b"
      },
      "cell_type": "markdown",
      "source": "Models\nNow we are going to use regularized linear regression models from the scikit learn module. I'm going to try both l_1(Lasso) and l_2(Ridge) regularization. I'll also define a function that returns the cross-validation rmse error so we can evaluate our models and pick the best tuning par"
    },
    {
      "metadata": {
        "trusted": true,
        "_uuid": "bfbe04df5133c072a899d18685d805294ea96c07"
      },
      "cell_type": "code",
      "source": "from sklearn.linear_model import Ridge, RidgeCV, ElasticNet, LassoCV, LassoLarsCV\nfrom sklearn.model_selection import cross_val_score\n\ndef rmse_cv(model):\n    rmse= np.sqrt(-cross_val_score(model, X_train, y, scoring=\"neg_mean_squared_error\", cv = 5))\n    return(rmse)",
      "execution_count": 26,
      "outputs": []
    },
    {
      "metadata": {
        "_uuid": "5917c034bda9de9716d8913dec91521aeb85cae1"
      },
      "cell_type": "markdown",
      "source": "The main tuning parameter for the Ridge model is alpha - a regularization parameter that measures how flexible our model is. The higher the regularization the less prone our model will be to overfit. However it will also lose flexibility and might not capture all of the signal in the data."
    },
    {
      "metadata": {
        "trusted": true,
        "_uuid": "c9b2b6fc5fe9c50d7243130792621f09604ef1d7"
      },
      "cell_type": "code",
      "source": "model_ridge = Ridge()",
      "execution_count": 28,
      "outputs": []
    },
    {
      "metadata": {
        "trusted": true,
        "_uuid": "9fdcbcbce6db3e6047b6a1e87b82119a1f823bff"
      },
      "cell_type": "code",
      "source": "alphas = [0.05, 0.1, 0.3, 1, 3, 5, 10, 15, 30, 50, 75]\ncv_ridge = [rmse_cv(Ridge(alpha = alpha)).mean()\n            for alpha in alphas\n           ]",
      "execution_count": 38,
      "outputs": []
    },
    {
      "metadata": {
        "trusted": true,
        "_uuid": "b9420c4ecff26f9894fac79368352689a8c9db0c"
      },
      "cell_type": "code",
      "source": "cv_ridge = pd.Series(cv_ridge, index = alphas)",
      "execution_count": 41,
      "outputs": []
    },
    {
      "metadata": {
        "trusted": true,
        "_uuid": "de933ad5afc328dc45f7717a3498cd38772f898a"
      },
      "cell_type": "code",
      "source": "cv_ridge.plot()",
      "execution_count": 43,
      "outputs": [
        {
          "output_type": "execute_result",
          "execution_count": 43,
          "data": {
            "text/plain": "<matplotlib.axes._subplots.AxesSubplot at 0x7fc81e0e8400>"
          },
          "metadata": {}
        },
        {
          "output_type": "display_data",
          "data": {
            "text/plain": "<Figure size 432x288 with 1 Axes>",
            "image/png": "[encoded data removed]"
          },
          "metadata": {
            "image/png": {
              "width": 386,
              "height": 250
            },
            "needs_background": "light"
          }
        }
      ]
    },
    {
      "metadata": {
        "trusted": true,
        "_uuid": "190630ed48de017943d4092ef7deef92eee0ea94"
      },
      "cell_type": "code",
      "source": "cv_ridge.min()",
      "execution_count": 44,
      "outputs": [
        {
          "output_type": "execute_result",
          "execution_count": 44,
          "data": {
            "text/plain": "0.12733734668670757"
          },
          "metadata": {}
        }
      ]
    },
    {
      "metadata": {
        "trusted": true,
        "_uuid": "f7f0bcd1d5c8bdf0c8270cd15e96bdfddd213899"
      },
      "cell_type": "code",
      "source": "cv_ridge",
      "execution_count": 45,
      "outputs": [
        {
          "output_type": "execute_result",
          "execution_count": 45,
          "data": {
            "text/plain": "0.05     0.138936\n0.10     0.137775\n0.30     0.135014\n1.00     0.131362\n3.00     0.128649\n5.00     0.127822\n10.00    0.127337\n15.00    0.127529\n30.00    0.128959\n50.00    0.130994\n75.00    0.133164\ndtype: float64"
          },
          "metadata": {}
        }
      ]
    },
    {
      "metadata": {
        "_uuid": "3b6aa9b7101641d88b69eb07e8fdc3b4634afd40"
      },
      "cell_type": "markdown",
      "source": "Note the U-ish shaped curve above. When alpha is too large the regularization is too strong and the model cannot capture all the complexities in the data. If however we let the model be too flexible (alpha small) the model begins to overfit. A value of alpha = 10 is about right based on the plot above.\n\nSo for the Ridge regression we get a rmsle of about 0.127\n\nLet' try out the Lasso model. We will do a slightly different approach here and use the built in Lasso CV to figure out the best alpha for us. For some reason the alphas in Lasso CV are really the inverse or the alphas in Ridge."
    },
    {
      "metadata": {
        "trusted": true,
        "_uuid": "cb21cad501173a0282edd52ce2f6a6c6c322fce5"
      },
      "cell_type": "code",
      "source": "import xgboost as xgb",
      "execution_count": 46,
      "outputs": []
    },
    {
      "metadata": {
        "trusted": true,
        "_uuid": "eefb4475f53dcce5bde5b872593543fba2e96afb"
      },
      "cell_type": "code",
      "source": "model_xgb = xgb.XGBRegressor(n_estimators=360, max_depth=2, learning_rate=0.1) #the params were tuned using xgb.cv\nmodel_xgb.fit(X_train, y)",
      "execution_count": 47,
      "outputs": [
        {
          "output_type": "execute_result",
          "execution_count": 47,
          "data": {
            "text/plain": "XGBRegressor(base_score=0.5, booster='gbtree', colsample_bylevel=1,\n       colsample_bytree=1, gamma=0, learning_rate=0.1, max_delta_step=0,\n       max_depth=2, min_child_weight=1, missing=None, n_estimators=360,\n       n_jobs=1, nthread=None, objective='reg:linear', random_state=0,\n       reg_alpha=0, reg_lambda=1, scale_pos_weight=1, seed=None,\n       silent=True, subsample=1)"
          },
          "metadata": {}
        }
      ]
    },
    {
      "metadata": {
        "trusted": true,
        "_uuid": "9d5e49fc14e159c3ec5c9dd920bc0fec6efece03"
      },
      "cell_type": "code",
      "source": "xgb_preds = np.expm1(model_xgb.predict(X_test))\n",
      "execution_count": 49,
      "outputs": []
    },
    {
      "metadata": {
        "trusted": true,
        "_uuid": "c266af608e1a64ba25ff5e5279f893e73023b328"
      },
      "cell_type": "code",
      "source": "solution = pd.DataFrame({\"id\":test.Id, \"SalePrice\":xgb_preds})\nsolution.to_csv(\"ridge_sol.csv\", index = False)",
      "execution_count": 50,
      "outputs": []
    },
    {
      "metadata": {
        "trusted": true,
        "_uuid": "9b402521763f691b64ce6dab6a0effb1b08958ac"
      },
      "cell_type": "code",
      "source": "os.listdir(\".\")",
      "execution_count": 53,
      "outputs": [
        {
          "output_type": "execute_result",
          "execution_count": 53,
          "data": {
            "text/plain": "['ridge_sol.csv', '__notebook_source__.ipynb', '.ipynb_checkpoints']"
          },
          "metadata": {}
        }
      ]
    },
    {
      "metadata": {
        "trusted": true,
        "_uuid": "b40d5899d9fc9a11ac7ba227b526d921d8451fdb"
      },
      "cell_type": "code",
      "source": "pred_frame=pd.read_csv('ridge_sol.csv')",
      "execution_count": 57,
      "outputs": []
    },
    {
      "metadata": {
        "trusted": true,
        "_uuid": "762e26e53c2a654116ab6dbf32644c4596e178b3"
      },
      "cell_type": "code",
      "source": "pred_frame",
      "execution_count": 55,
      "outputs": [
        {
          "output_type": "execute_result",
          "execution_count": 55,
          "data": {
            "text/plain": "        id   SalePrice\n0     1461  120528.960\n1     1462  156569.970\n2     1463  186196.900\n3     1464  192304.500\n4     1465  185913.000\n5     1466  172783.940\n6     1467  174526.830\n7     1468  164244.120\n8     1469  188705.160\n9     1470  122438.820\n10    1471  194368.250\n11    1472   93912.590\n12    1473   98585.980\n13    1474  152861.480\n14    1475  126522.010\n15    1476  386708.060\n16    1477  260488.000\n17    1478  282479.000\n18    1479  297534.160\n19    1480  490865.100\n20    1481  334656.000\n21    1482  204373.000\n22    1483  167443.160\n23    1484  167385.360\n24    1485  177663.160\n25    1486  188839.280\n26    1487  348995.560\n27    1488  237305.670\n28    1489  203666.720\n29    1490  211634.530\n...    ...         ...\n1429  2890   83320.470\n1430  2891  133163.340\n1431  2892   42339.953\n1432  2893   67844.260\n1433  2894   53884.880\n1434  2895  287669.380\n1435  2896  287175.160\n1436  2897  194335.450\n1437  2898  142641.840\n1438  2899  224957.950\n1439  2900  155161.840\n1440  2901  204096.030\n1441  2902  178572.970\n1442  2903  351341.560\n1443  2904  366808.620\n1444  2905   88492.230\n1445  2906  196320.440\n1446  2907  112528.310\n1447  2908  130945.250\n1448  2909  143412.920\n1449  2910   80393.010\n1450  2911   83003.380\n1451  2912  139681.980\n1452  2913   85645.170\n1453  2914   78094.970\n1454  2915   82824.836\n1455  2916   83267.800\n1456  2917  156040.190\n1457  2918  119248.190\n1458  2919  226422.400\n\n[1459 rows x 2 columns]",
            "text/html": "<div>\n<style scoped>\n    .dataframe tbody tr th:only-of-type {\n        vertical-align: middle;\n    }\n\n    .dataframe tbody tr th {\n        vertical-align: top;\n    }\n\n    .dataframe thead th {\n        text-align: right;\n    }\n</style>\n<table border=\"1\" class=\"dataframe\">\n  <thead>\n    <tr style=\"text-align: right;\">\n      <th></th>\n      <th>id</th>\n      <th>SalePrice</th>\n    </tr>\n  </thead>\n  <tbody>\n    <tr>\n      <th>0</th>\n      <td>1461</td>\n      <td>120528.960</td>\n    </tr>\n    <tr>\n      <th>1</th>\n      <td>1462</td>\n      <td>156569.970</td>\n    </tr>\n    <tr>\n      <th>2</th>\n      <td>1463</td>\n      <td>186196.900</td>\n    </tr>\n    <tr>\n      <th>3</th>\n      <td>1464</td>\n      <td>192304.500</td>\n    </tr>\n    <tr>\n      <th>4</th>\n      <td>1465</td>\n      <td>185913.000</td>\n    </tr>\n    <tr>\n      <th>5</th>\n      <td>1466</td>\n      <td>172783.940</td>\n    </tr>\n    <tr>\n      <th>6</th>\n      <td>1467</td>\n      <td>174526.830</td>\n    </tr>\n    <tr>\n      <th>7</th>\n      <td>1468</td>\n      <td>164244.120</td>\n    </tr>\n    <tr>\n      <th>8</th>\n      <td>1469</td>\n      <td>188705.160</td>\n    </tr>\n    <tr>\n      <th>9</th>\n      <td>1470</td>\n      <td>122438.820</td>\n    </tr>\n    <tr>\n      <th>10</th>\n      <td>1471</td>\n      <td>194368.250</td>\n    </tr>\n    <tr>\n      <th>11</th>\n      <td>1472</td>\n      <td>93912.590</td>\n    </tr>\n    <tr>\n      <th>12</th>\n      <td>1473</td>\n      <td>98585.980</td>\n    </tr>\n    <tr>\n      <th>13</th>\n      <td>1474</td>\n      <td>152861.480</td>\n    </tr>\n    <tr>\n      <th>14</th>\n      <td>1475</td>\n      <td>126522.010</td>\n    </tr>\n    <tr>\n      <th>15</th>\n      <td>1476</td>\n      <td>386708.060</td>\n    </tr>\n    <tr>\n      <th>16</th>\n      <td>1477</td>\n      <td>260488.000</td>\n    </tr>\n    <tr>\n      <th>17</th>\n      <td>1478</td>\n      <td>282479.000</td>\n    </tr>\n    <tr>\n      <th>18</th>\n      <td>1479</td>\n      <td>297534.160</td>\n    </tr>\n    <tr>\n      <th>19</th>\n      <td>1480</td>\n      <td>490865.100</td>\n    </tr>\n    <tr>\n      <th>20</th>\n      <td>1481</td>\n      <td>334656.000</td>\n    </tr>\n    <tr>\n      <th>21</th>\n      <td>1482</td>\n      <td>204373.000</td>\n    </tr>\n    <tr>\n      <th>22</th>\n      <td>1483</td>\n      <td>167443.160</td>\n    </tr>\n    <tr>\n      <th>23</th>\n      <td>1484</td>\n      <td>167385.360</td>\n    </tr>\n    <tr>\n      <th>24</th>\n      <td>1485</td>\n      <td>177663.160</td>\n    </tr>\n    <tr>\n      <th>25</th>\n      <td>1486</td>\n      <td>188839.280</td>\n    </tr>\n    <tr>\n      <th>26</th>\n      <td>1487</td>\n      <td>348995.560</td>\n    </tr>\n    <tr>\n      <th>27</th>\n      <td>1488</td>\n      <td>237305.670</td>\n    </tr>\n    <tr>\n      <th>28</th>\n      <td>1489</td>\n      <td>203666.720</td>\n    </tr>\n    <tr>\n      <th>29</th>\n      <td>1490</td>\n      <td>211634.530</td>\n    </tr>\n    <tr>\n      <th>...</th>\n      <td>...</td>\n      <td>...</td>\n    </tr>\n    <tr>\n      <th>1429</th>\n      <td>2890</td>\n      <td>83320.470</td>\n    </tr>\n    <tr>\n      <th>1430</th>\n      <td>2891</td>\n      <td>133163.340</td>\n    </tr>\n    <tr>\n      <th>1431</th>\n      <td>2892</td>\n      <td>42339.953</td>\n    </tr>\n    <tr>\n      <th>1432</th>\n      <td>2893</td>\n      <td>67844.260</td>\n    </tr>\n    <tr>\n      <th>1433</th>\n      <td>2894</td>\n      <td>53884.880</td>\n    </tr>\n    <tr>\n      <th>1434</th>\n      <td>2895</td>\n      <td>287669.380</td>\n    </tr>\n    <tr>\n      <th>1435</th>\n      <td>2896</td>\n      <td>287175.160</td>\n    </tr>\n    <tr>\n      <th>1436</th>\n      <td>2897</td>\n      <td>194335.450</td>\n    </tr>\n    <tr>\n      <th>1437</th>\n      <td>2898</td>\n      <td>142641.840</td>\n    </tr>\n    <tr>\n      <th>1438</th>\n      <td>2899</td>\n      <td>224957.950</td>\n    </tr>\n    <tr>\n      <th>1439</th>\n      <td>2900</td>\n      <td>155161.840</td>\n    </tr>\n    <tr>\n      <th>1440</th>\n      <td>2901</td>\n      <td>204096.030</td>\n    </tr>\n    <tr>\n      <th>1441</th>\n      <td>2902</td>\n      <td>178572.970</td>\n    </tr>\n    <tr>\n      <th>1442</th>\n      <td>2903</td>\n      <td>351341.560</td>\n    </tr>\n    <tr>\n      <th>1443</th>\n      <td>2904</td>\n      <td>366808.620</td>\n    </tr>\n    <tr>\n      <th>1444</th>\n      <td>2905</td>\n      <td>88492.230</td>\n    </tr>\n    <tr>\n      <th>1445</th>\n      <td>2906</td>\n      <td>196320.440</td>\n    </tr>\n    <tr>\n      <th>1446</th>\n      <td>2907</td>\n      <td>112528.310</td>\n    </tr>\n    <tr>\n      <th>1447</th>\n      <td>2908</td>\n      <td>130945.250</td>\n    </tr>\n    <tr>\n      <th>1448</th>\n      <td>2909</td>\n      <td>143412.920</td>\n    </tr>\n    <tr>\n      <th>1449</th>\n      <td>2910</td>\n      <td>80393.010</td>\n    </tr>\n    <tr>\n      <th>1450</th>\n      <td>2911</td>\n      <td>83003.380</td>\n    </tr>\n    <tr>\n      <th>1451</th>\n      <td>2912</td>\n      <td>139681.980</td>\n    </tr>\n    <tr>\n      <th>1452</th>\n      <td>2913</td>\n      <td>85645.170</td>\n    </tr>\n    <tr>\n      <th>1453</th>\n      <td>2914</td>\n      <td>78094.970</td>\n    </tr>\n    <tr>\n      <th>1454</th>\n      <td>2915</td>\n      <td>82824.836</td>\n    </tr>\n    <tr>\n      <th>1455</th>\n      <td>2916</td>\n      <td>83267.800</td>\n    </tr>\n    <tr>\n      <th>1456</th>\n      <td>2917</td>\n      <td>156040.190</td>\n    </tr>\n    <tr>\n      <th>1457</th>\n      <td>2918</td>\n      <td>119248.190</td>\n    </tr>\n    <tr>\n      <th>1458</th>\n      <td>2919</td>\n      <td>226422.400</td>\n    </tr>\n  </tbody>\n</table>\n<p>1459 rows × 2 columns</p>\n</div>"
          },
          "metadata": {}
        }
      ]
    }
  ],
  "metadata": {
    "kernelspec": {
      "display_name": "Python 3",
      "language": "python",
      "name": "python3"
    },
    "language_info": {
      "name": "python",
      "version": "3.6.6",
      "mimetype": "text/x-python",
      "codemirror_mode": {
        "name": "ipython",
        "version": 3
      },
      "pygments_lexer": "ipython3",
      "nbconvert_exporter": "python",
      "file_extension": ".py"
    }
  },
  "nbformat": 4,
  "nbformat_minor": 1
}