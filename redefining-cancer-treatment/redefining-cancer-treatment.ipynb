{
 "cells": [
  {
   "cell_type": "markdown",
   "metadata": {},
   "source": [
    "## Cancer treatment Project for Kaggle\n",
    "\n",
    "\n",
    "This notebook is a solution for problem listed in the below mentioned Kaggle Competion\n",
    "\n",
    "https://www.kaggle.com/c/msk-redefining-cancer-treatment\n",
    "    \n",
    "The problem is a multi-class Classificaiton problem to classify between 9 classes of cancer."
   ]
  },
  {
   "cell_type": "code",
   "execution_count": 2,
   "metadata": {},
   "outputs": [],
   "source": [
    "import pandas as pd\n",
    "import matplotlib.pyplot as plt\n",
    "import seaborn as sns"
   ]
  },
  {
   "cell_type": "markdown",
   "metadata": {},
   "source": [
    "There are 2"
   ]
  },
  {
   "cell_type": "code",
   "execution_count": 8,
   "metadata": {},
   "outputs": [],
   "source": [
    "training_var = pd.read_csv('./data/training_variants')\n",
    "training_text = pd.read_csv('./data/training_text',sep='\\|\\|',engine=\"python\")"
   ]
  },
  {
   "cell_type": "code",
   "execution_count": 9,
   "metadata": {},
   "outputs": [
    {
     "data": {
      "text/html": [
       "<div>\n",
       "<style scoped>\n",
       "    .dataframe tbody tr th:only-of-type {\n",
       "        vertical-align: middle;\n",
       "    }\n",
       "\n",
       "    .dataframe tbody tr th {\n",
       "        vertical-align: top;\n",
       "    }\n",
       "\n",
       "    .dataframe thead th {\n",
       "        text-align: right;\n",
       "    }\n",
       "</style>\n",
       "<table border=\"1\" class=\"dataframe\">\n",
       "  <thead>\n",
       "    <tr style=\"text-align: right;\">\n",
       "      <th></th>\n",
       "      <th>ID</th>\n",
       "      <th>Gene</th>\n",
       "      <th>Variation</th>\n",
       "      <th>Class</th>\n",
       "    </tr>\n",
       "  </thead>\n",
       "  <tbody>\n",
       "    <tr>\n",
       "      <th>0</th>\n",
       "      <td>0</td>\n",
       "      <td>FAM58A</td>\n",
       "      <td>Truncating Mutations</td>\n",
       "      <td>1</td>\n",
       "    </tr>\n",
       "    <tr>\n",
       "      <th>1</th>\n",
       "      <td>1</td>\n",
       "      <td>CBL</td>\n",
       "      <td>W802*</td>\n",
       "      <td>2</td>\n",
       "    </tr>\n",
       "    <tr>\n",
       "      <th>2</th>\n",
       "      <td>2</td>\n",
       "      <td>CBL</td>\n",
       "      <td>Q249E</td>\n",
       "      <td>2</td>\n",
       "    </tr>\n",
       "    <tr>\n",
       "      <th>3</th>\n",
       "      <td>3</td>\n",
       "      <td>CBL</td>\n",
       "      <td>N454D</td>\n",
       "      <td>3</td>\n",
       "    </tr>\n",
       "    <tr>\n",
       "      <th>4</th>\n",
       "      <td>4</td>\n",
       "      <td>CBL</td>\n",
       "      <td>L399V</td>\n",
       "      <td>4</td>\n",
       "    </tr>\n",
       "  </tbody>\n",
       "</table>\n",
       "</div>"
      ],
      "text/plain": [
       "   ID    Gene             Variation  Class\n",
       "0   0  FAM58A  Truncating Mutations      1\n",
       "1   1     CBL                 W802*      2\n",
       "2   2     CBL                 Q249E      2\n",
       "3   3     CBL                 N454D      3\n",
       "4   4     CBL                 L399V      4"
      ]
     },
     "execution_count": 9,
     "metadata": {},
     "output_type": "execute_result"
    }
   ],
   "source": [
    "training_var.head()"
   ]
  },
  {
   "cell_type": "code",
   "execution_count": 11,
   "metadata": {},
   "outputs": [
    {
     "data": {
      "text/html": [
       "<div>\n",
       "<style scoped>\n",
       "    .dataframe tbody tr th:only-of-type {\n",
       "        vertical-align: middle;\n",
       "    }\n",
       "\n",
       "    .dataframe tbody tr th {\n",
       "        vertical-align: top;\n",
       "    }\n",
       "\n",
       "    .dataframe thead th {\n",
       "        text-align: right;\n",
       "    }\n",
       "</style>\n",
       "<table border=\"1\" class=\"dataframe\">\n",
       "  <thead>\n",
       "    <tr style=\"text-align: right;\">\n",
       "      <th></th>\n",
       "      <th>ID</th>\n",
       "      <th>Text</th>\n",
       "    </tr>\n",
       "  </thead>\n",
       "  <tbody>\n",
       "    <tr>\n",
       "      <th>0</th>\n",
       "      <td>0</td>\n",
       "      <td>Cyclin-dependent kinases (CDKs) regulate a var...</td>\n",
       "    </tr>\n",
       "    <tr>\n",
       "      <th>1</th>\n",
       "      <td>1</td>\n",
       "      <td>Abstract Background  Non-small cell lung canc...</td>\n",
       "    </tr>\n",
       "    <tr>\n",
       "      <th>2</th>\n",
       "      <td>2</td>\n",
       "      <td>Abstract Background  Non-small cell lung canc...</td>\n",
       "    </tr>\n",
       "    <tr>\n",
       "      <th>3</th>\n",
       "      <td>3</td>\n",
       "      <td>Recent evidence has demonstrated that acquired...</td>\n",
       "    </tr>\n",
       "    <tr>\n",
       "      <th>4</th>\n",
       "      <td>4</td>\n",
       "      <td>Oncogenic mutations in the monomeric Casitas B...</td>\n",
       "    </tr>\n",
       "  </tbody>\n",
       "</table>\n",
       "</div>"
      ],
      "text/plain": [
       "   ID                                               Text\n",
       "0   0  Cyclin-dependent kinases (CDKs) regulate a var...\n",
       "1   1   Abstract Background  Non-small cell lung canc...\n",
       "2   2   Abstract Background  Non-small cell lung canc...\n",
       "3   3  Recent evidence has demonstrated that acquired...\n",
       "4   4  Oncogenic mutations in the monomeric Casitas B..."
      ]
     },
     "execution_count": 11,
     "metadata": {},
     "output_type": "execute_result"
    }
   ],
   "source": [
    "training_text.head()"
   ]
  },
  {
   "cell_type": "code",
   "execution_count": 12,
   "metadata": {},
   "outputs": [
    {
     "name": "stdout",
     "output_type": "stream",
     "text": [
      "<class 'pandas.core.frame.DataFrame'>\n",
      "RangeIndex: 3321 entries, 0 to 3320\n",
      "Data columns (total 4 columns):\n",
      "ID           3321 non-null int64\n",
      "Gene         3321 non-null object\n",
      "Variation    3321 non-null object\n",
      "Class        3321 non-null int64\n",
      "dtypes: int64(2), object(2)\n",
      "memory usage: 103.9+ KB\n"
     ]
    }
   ],
   "source": [
    "training_var.info()"
   ]
  },
  {
   "cell_type": "code",
   "execution_count": 13,
   "metadata": {},
   "outputs": [
    {
     "data": {
      "text/html": [
       "<div>\n",
       "<style scoped>\n",
       "    .dataframe tbody tr th:only-of-type {\n",
       "        vertical-align: middle;\n",
       "    }\n",
       "\n",
       "    .dataframe tbody tr th {\n",
       "        vertical-align: top;\n",
       "    }\n",
       "\n",
       "    .dataframe thead th {\n",
       "        text-align: right;\n",
       "    }\n",
       "</style>\n",
       "<table border=\"1\" class=\"dataframe\">\n",
       "  <thead>\n",
       "    <tr style=\"text-align: right;\">\n",
       "      <th></th>\n",
       "      <th>ID</th>\n",
       "      <th>Class</th>\n",
       "    </tr>\n",
       "  </thead>\n",
       "  <tbody>\n",
       "    <tr>\n",
       "      <th>count</th>\n",
       "      <td>3321.000000</td>\n",
       "      <td>3321.000000</td>\n",
       "    </tr>\n",
       "    <tr>\n",
       "      <th>mean</th>\n",
       "      <td>1660.000000</td>\n",
       "      <td>4.365854</td>\n",
       "    </tr>\n",
       "    <tr>\n",
       "      <th>std</th>\n",
       "      <td>958.834449</td>\n",
       "      <td>2.309781</td>\n",
       "    </tr>\n",
       "    <tr>\n",
       "      <th>min</th>\n",
       "      <td>0.000000</td>\n",
       "      <td>1.000000</td>\n",
       "    </tr>\n",
       "    <tr>\n",
       "      <th>25%</th>\n",
       "      <td>830.000000</td>\n",
       "      <td>2.000000</td>\n",
       "    </tr>\n",
       "    <tr>\n",
       "      <th>50%</th>\n",
       "      <td>1660.000000</td>\n",
       "      <td>4.000000</td>\n",
       "    </tr>\n",
       "    <tr>\n",
       "      <th>75%</th>\n",
       "      <td>2490.000000</td>\n",
       "      <td>7.000000</td>\n",
       "    </tr>\n",
       "    <tr>\n",
       "      <th>max</th>\n",
       "      <td>3320.000000</td>\n",
       "      <td>9.000000</td>\n",
       "    </tr>\n",
       "  </tbody>\n",
       "</table>\n",
       "</div>"
      ],
      "text/plain": [
       "                ID        Class\n",
       "count  3321.000000  3321.000000\n",
       "mean   1660.000000     4.365854\n",
       "std     958.834449     2.309781\n",
       "min       0.000000     1.000000\n",
       "25%     830.000000     2.000000\n",
       "50%    1660.000000     4.000000\n",
       "75%    2490.000000     7.000000\n",
       "max    3320.000000     9.000000"
      ]
     },
     "execution_count": 13,
     "metadata": {},
     "output_type": "execute_result"
    }
   ],
   "source": [
    "training_var.describe()"
   ]
  },
  {
   "cell_type": "markdown",
   "metadata": {},
   "source": [
    "There are 9 distinct values for class. This is a multi class classification problem"
   ]
  },
  {
   "cell_type": "code",
   "execution_count": 16,
   "metadata": {},
   "outputs": [
    {
     "data": {
      "text/plain": [
       "array([1, 2, 3, 4, 5, 6, 7, 8, 9], dtype=int64)"
      ]
     },
     "execution_count": 16,
     "metadata": {},
     "output_type": "execute_result"
    }
   ],
   "source": [
    "training_var.Class.unique()"
   ]
  },
  {
   "cell_type": "code",
   "execution_count": 31,
   "metadata": {},
   "outputs": [],
   "source": [
    "from nltk.corpus import stopwords\n",
    "\n",
    "stop_words = set(stopwords.words('english'))"
   ]
  },
  {
   "cell_type": "code",
   "execution_count": 75,
   "metadata": {},
   "outputs": [],
   "source": [
    "import re\n",
    "def data_text_preprocess1(input_text, row, column):\n",
    "    if type(input_text) == str:\n",
    "        output_str = \"\"\n",
    "        #Replace any special char with spaces\n",
    "        input_text = re.sub('[^a-zA-Z0-9\\n]',' ',str(input_text))\n",
    "        \n",
    "        #Remove multiple spaces\n",
    "        input_text = re.sub('\\s+',' ',str(input_text))\n",
    "        \n",
    "        input_text = input_text.lower()\n",
    "        \n",
    "        for word in input_text.split():\n",
    "            #Remove Stop Words\n",
    "            if not word in stop_words:\n",
    "                output_str = output_str+word+' '\n",
    "        #Assigning the processed string to the origincal data Frame\n",
    "        training_text[column][row]=output_str\n",
    "        "
   ]
  },
  {
   "cell_type": "code",
   "execution_count": 76,
   "metadata": {},
   "outputs": [
    {
     "name": "stderr",
     "output_type": "stream",
     "text": [
      "C:\\Users\\SAravindan\\AppData\\Local\\Continuum\\anaconda3\\lib\\site-packages\\ipykernel_launcher.py:17: SettingWithCopyWarning: \n",
      "A value is trying to be set on a copy of a slice from a DataFrame\n",
      "\n",
      "See the caveats in the documentation: http://pandas.pydata.org/pandas-docs/stable/indexing.html#indexing-view-versus-copy\n"
     ]
    }
   ],
   "source": [
    "for index,row in training_text.iterrows():\n",
    "    if type(row['Text']) is str:\n",
    "        data_text_preprocess(row['Text'],index,'Text')"
   ]
  },
  {
   "cell_type": "code",
   "execution_count": 79,
   "metadata": {},
   "outputs": [],
   "source": [
    "merged_data = pd.merge(training_var,training_text,on='ID',how='left')"
   ]
  },
  {
   "cell_type": "code",
   "execution_count": 81,
   "metadata": {},
   "outputs": [
    {
     "data": {
      "text/html": [
       "<div>\n",
       "<style scoped>\n",
       "    .dataframe tbody tr th:only-of-type {\n",
       "        vertical-align: middle;\n",
       "    }\n",
       "\n",
       "    .dataframe tbody tr th {\n",
       "        vertical-align: top;\n",
       "    }\n",
       "\n",
       "    .dataframe thead th {\n",
       "        text-align: right;\n",
       "    }\n",
       "</style>\n",
       "<table border=\"1\" class=\"dataframe\">\n",
       "  <thead>\n",
       "    <tr style=\"text-align: right;\">\n",
       "      <th></th>\n",
       "      <th>ID</th>\n",
       "      <th>Gene</th>\n",
       "      <th>Variation</th>\n",
       "      <th>Class</th>\n",
       "      <th>Text</th>\n",
       "    </tr>\n",
       "  </thead>\n",
       "  <tbody>\n",
       "    <tr>\n",
       "      <th>0</th>\n",
       "      <td>0</td>\n",
       "      <td>FAM58A</td>\n",
       "      <td>Truncating Mutations</td>\n",
       "      <td>1</td>\n",
       "      <td>cyclin dependent kinases cdks regulate variety...</td>\n",
       "    </tr>\n",
       "    <tr>\n",
       "      <th>1</th>\n",
       "      <td>1</td>\n",
       "      <td>CBL</td>\n",
       "      <td>W802*</td>\n",
       "      <td>2</td>\n",
       "      <td>abstract background non small cell lung cancer...</td>\n",
       "    </tr>\n",
       "    <tr>\n",
       "      <th>2</th>\n",
       "      <td>2</td>\n",
       "      <td>CBL</td>\n",
       "      <td>Q249E</td>\n",
       "      <td>2</td>\n",
       "      <td>abstract background non small cell lung cancer...</td>\n",
       "    </tr>\n",
       "    <tr>\n",
       "      <th>3</th>\n",
       "      <td>3</td>\n",
       "      <td>CBL</td>\n",
       "      <td>N454D</td>\n",
       "      <td>3</td>\n",
       "      <td>recent evidence demonstrated acquired uniparen...</td>\n",
       "    </tr>\n",
       "    <tr>\n",
       "      <th>4</th>\n",
       "      <td>4</td>\n",
       "      <td>CBL</td>\n",
       "      <td>L399V</td>\n",
       "      <td>4</td>\n",
       "      <td>oncogenic mutations monomeric casitas b lineag...</td>\n",
       "    </tr>\n",
       "  </tbody>\n",
       "</table>\n",
       "</div>"
      ],
      "text/plain": [
       "   ID    Gene             Variation  Class  \\\n",
       "0   0  FAM58A  Truncating Mutations      1   \n",
       "1   1     CBL                 W802*      2   \n",
       "2   2     CBL                 Q249E      2   \n",
       "3   3     CBL                 N454D      3   \n",
       "4   4     CBL                 L399V      4   \n",
       "\n",
       "                                                Text  \n",
       "0  cyclin dependent kinases cdks regulate variety...  \n",
       "1  abstract background non small cell lung cancer...  \n",
       "2  abstract background non small cell lung cancer...  \n",
       "3  recent evidence demonstrated acquired uniparen...  \n",
       "4  oncogenic mutations monomeric casitas b lineag...  "
      ]
     },
     "execution_count": 81,
     "metadata": {},
     "output_type": "execute_result"
    }
   ],
   "source": [
    "merged_data.head()"
   ]
  },
  {
   "cell_type": "code",
   "execution_count": 83,
   "metadata": {},
   "outputs": [
    {
     "name": "stdout",
     "output_type": "stream",
     "text": [
      "<class 'pandas.core.frame.DataFrame'>\n",
      "Int64Index: 3321 entries, 0 to 3320\n",
      "Data columns (total 5 columns):\n",
      "ID           3321 non-null int64\n",
      "Gene         3321 non-null object\n",
      "Variation    3321 non-null object\n",
      "Class        3321 non-null int64\n",
      "Text         3316 non-null object\n",
      "dtypes: int64(2), object(3)\n",
      "memory usage: 155.7+ KB\n"
     ]
    }
   ],
   "source": [
    "merged_data.info()"
   ]
  },
  {
   "cell_type": "markdown",
   "metadata": {},
   "source": [
    "There are 5 rows above which have null Text"
   ]
  },
  {
   "cell_type": "code",
   "execution_count": 85,
   "metadata": {},
   "outputs": [
    {
     "data": {
      "text/html": [
       "<div>\n",
       "<style scoped>\n",
       "    .dataframe tbody tr th:only-of-type {\n",
       "        vertical-align: middle;\n",
       "    }\n",
       "\n",
       "    .dataframe tbody tr th {\n",
       "        vertical-align: top;\n",
       "    }\n",
       "\n",
       "    .dataframe thead th {\n",
       "        text-align: right;\n",
       "    }\n",
       "</style>\n",
       "<table border=\"1\" class=\"dataframe\">\n",
       "  <thead>\n",
       "    <tr style=\"text-align: right;\">\n",
       "      <th></th>\n",
       "      <th>ID</th>\n",
       "      <th>Gene</th>\n",
       "      <th>Variation</th>\n",
       "      <th>Class</th>\n",
       "      <th>Text</th>\n",
       "    </tr>\n",
       "  </thead>\n",
       "  <tbody>\n",
       "    <tr>\n",
       "      <th>1109</th>\n",
       "      <td>1109</td>\n",
       "      <td>FANCA</td>\n",
       "      <td>S1088F</td>\n",
       "      <td>1</td>\n",
       "      <td>NaN</td>\n",
       "    </tr>\n",
       "    <tr>\n",
       "      <th>1277</th>\n",
       "      <td>1277</td>\n",
       "      <td>ARID5B</td>\n",
       "      <td>Truncating Mutations</td>\n",
       "      <td>1</td>\n",
       "      <td>NaN</td>\n",
       "    </tr>\n",
       "    <tr>\n",
       "      <th>1407</th>\n",
       "      <td>1407</td>\n",
       "      <td>FGFR3</td>\n",
       "      <td>K508M</td>\n",
       "      <td>6</td>\n",
       "      <td>NaN</td>\n",
       "    </tr>\n",
       "    <tr>\n",
       "      <th>1639</th>\n",
       "      <td>1639</td>\n",
       "      <td>FLT1</td>\n",
       "      <td>Amplification</td>\n",
       "      <td>6</td>\n",
       "      <td>NaN</td>\n",
       "    </tr>\n",
       "    <tr>\n",
       "      <th>2755</th>\n",
       "      <td>2755</td>\n",
       "      <td>BRAF</td>\n",
       "      <td>G596C</td>\n",
       "      <td>7</td>\n",
       "      <td>NaN</td>\n",
       "    </tr>\n",
       "  </tbody>\n",
       "</table>\n",
       "</div>"
      ],
      "text/plain": [
       "        ID    Gene             Variation  Class Text\n",
       "1109  1109   FANCA                S1088F      1  NaN\n",
       "1277  1277  ARID5B  Truncating Mutations      1  NaN\n",
       "1407  1407   FGFR3                 K508M      6  NaN\n",
       "1639  1639    FLT1         Amplification      6  NaN\n",
       "2755  2755    BRAF                 G596C      7  NaN"
      ]
     },
     "execution_count": 85,
     "metadata": {},
     "output_type": "execute_result"
    }
   ],
   "source": [
    "merged_data.loc[merged_data['Text'].isnull()]"
   ]
  },
  {
   "cell_type": "code",
   "execution_count": 88,
   "metadata": {},
   "outputs": [
    {
     "data": {
      "text/plain": [
       "1109    NaN\n",
       "1277    NaN\n",
       "1407    NaN\n",
       "1639    NaN\n",
       "2755    NaN\n",
       "Name: Text, dtype: object"
      ]
     },
     "execution_count": 88,
     "metadata": {},
     "output_type": "execute_result"
    }
   ],
   "source": [
    "merged_data.loc[merged_data['Text'].isnull(),'Text']"
   ]
  },
  {
   "cell_type": "markdown",
   "metadata": {},
   "source": [
    "Replacing null 'Text' with values"
   ]
  },
  {
   "cell_type": "code",
   "execution_count": 98,
   "metadata": {},
   "outputs": [],
   "source": [
    "merged_data.loc[merged_data['Text'].isnull(),'Text'] = merged_data['Gene'] +' '+merged_data['Variation']"
   ]
  },
  {
   "cell_type": "code",
   "execution_count": 100,
   "metadata": {},
   "outputs": [
    {
     "data": {
      "text/plain": [
       "Series([], Name: Text, dtype: object)"
      ]
     },
     "execution_count": 100,
     "metadata": {},
     "output_type": "execute_result"
    }
   ],
   "source": [
    "merged_data.loc[merged_data['Text'].isnull(),'Text']"
   ]
  },
  {
   "cell_type": "code",
   "execution_count": 104,
   "metadata": {},
   "outputs": [
    {
     "data": {
      "text/html": [
       "<div>\n",
       "<style scoped>\n",
       "    .dataframe tbody tr th:only-of-type {\n",
       "        vertical-align: middle;\n",
       "    }\n",
       "\n",
       "    .dataframe tbody tr th {\n",
       "        vertical-align: top;\n",
       "    }\n",
       "\n",
       "    .dataframe thead th {\n",
       "        text-align: right;\n",
       "    }\n",
       "</style>\n",
       "<table border=\"1\" class=\"dataframe\">\n",
       "  <thead>\n",
       "    <tr style=\"text-align: right;\">\n",
       "      <th></th>\n",
       "      <th>ID</th>\n",
       "      <th>Gene</th>\n",
       "      <th>Variation</th>\n",
       "      <th>Class</th>\n",
       "      <th>Text</th>\n",
       "    </tr>\n",
       "  </thead>\n",
       "  <tbody>\n",
       "    <tr>\n",
       "      <th>1277</th>\n",
       "      <td>1277</td>\n",
       "      <td>ARID5B</td>\n",
       "      <td>Truncating Mutations</td>\n",
       "      <td>1</td>\n",
       "      <td>ARID5B Truncating Mutations</td>\n",
       "    </tr>\n",
       "  </tbody>\n",
       "</table>\n",
       "</div>"
      ],
      "text/plain": [
       "        ID    Gene             Variation  Class                         Text\n",
       "1277  1277  ARID5B  Truncating Mutations      1  ARID5B Truncating Mutations"
      ]
     },
     "execution_count": 104,
     "metadata": {},
     "output_type": "execute_result"
    }
   ],
   "source": [
    "merged_data.loc[merged_data['ID']==1277]"
   ]
  },
  {
   "cell_type": "code",
   "execution_count": 106,
   "metadata": {},
   "outputs": [
    {
     "data": {
      "text/html": [
       "<div>\n",
       "<style scoped>\n",
       "    .dataframe tbody tr th:only-of-type {\n",
       "        vertical-align: middle;\n",
       "    }\n",
       "\n",
       "    .dataframe tbody tr th {\n",
       "        vertical-align: top;\n",
       "    }\n",
       "\n",
       "    .dataframe thead th {\n",
       "        text-align: right;\n",
       "    }\n",
       "</style>\n",
       "<table border=\"1\" class=\"dataframe\">\n",
       "  <thead>\n",
       "    <tr style=\"text-align: right;\">\n",
       "      <th></th>\n",
       "      <th>ID</th>\n",
       "      <th>Gene</th>\n",
       "      <th>Variation</th>\n",
       "      <th>Class</th>\n",
       "      <th>Text</th>\n",
       "    </tr>\n",
       "  </thead>\n",
       "  <tbody>\n",
       "    <tr>\n",
       "      <th>0</th>\n",
       "      <td>0</td>\n",
       "      <td>FAM58A</td>\n",
       "      <td>Truncating Mutations</td>\n",
       "      <td>1</td>\n",
       "      <td>cyclin dependent kinases cdks regulate variety...</td>\n",
       "    </tr>\n",
       "    <tr>\n",
       "      <th>1</th>\n",
       "      <td>1</td>\n",
       "      <td>CBL</td>\n",
       "      <td>W802*</td>\n",
       "      <td>2</td>\n",
       "      <td>abstract background non small cell lung cancer...</td>\n",
       "    </tr>\n",
       "    <tr>\n",
       "      <th>2</th>\n",
       "      <td>2</td>\n",
       "      <td>CBL</td>\n",
       "      <td>Q249E</td>\n",
       "      <td>2</td>\n",
       "      <td>abstract background non small cell lung cancer...</td>\n",
       "    </tr>\n",
       "    <tr>\n",
       "      <th>3</th>\n",
       "      <td>3</td>\n",
       "      <td>CBL</td>\n",
       "      <td>N454D</td>\n",
       "      <td>3</td>\n",
       "      <td>recent evidence demonstrated acquired uniparen...</td>\n",
       "    </tr>\n",
       "    <tr>\n",
       "      <th>4</th>\n",
       "      <td>4</td>\n",
       "      <td>CBL</td>\n",
       "      <td>L399V</td>\n",
       "      <td>4</td>\n",
       "      <td>oncogenic mutations monomeric casitas b lineag...</td>\n",
       "    </tr>\n",
       "  </tbody>\n",
       "</table>\n",
       "</div>"
      ],
      "text/plain": [
       "   ID    Gene             Variation  Class  \\\n",
       "0   0  FAM58A  Truncating Mutations      1   \n",
       "1   1     CBL                 W802*      2   \n",
       "2   2     CBL                 Q249E      2   \n",
       "3   3     CBL                 N454D      3   \n",
       "4   4     CBL                 L399V      4   \n",
       "\n",
       "                                                Text  \n",
       "0  cyclin dependent kinases cdks regulate variety...  \n",
       "1  abstract background non small cell lung cancer...  \n",
       "2  abstract background non small cell lung cancer...  \n",
       "3  recent evidence demonstrated acquired uniparen...  \n",
       "4  oncogenic mutations monomeric casitas b lineag...  "
      ]
     },
     "execution_count": 106,
     "metadata": {},
     "output_type": "execute_result"
    }
   ],
   "source": [
    "merged_data.head()"
   ]
  },
  {
   "cell_type": "markdown",
   "metadata": {},
   "source": [
    "need to replace space in Gene and Variation with _"
   ]
  },
  {
   "cell_type": "code",
   "execution_count": 108,
   "metadata": {},
   "outputs": [],
   "source": [
    "merged_data.Gene=merged_data.Gene.str.replace('\\s+','_')\n",
    "merged_data.Variation=merged_data.Variation.str.replace('\\s+','_')"
   ]
  },
  {
   "cell_type": "code",
   "execution_count": 110,
   "metadata": {},
   "outputs": [
    {
     "data": {
      "text/html": [
       "<div>\n",
       "<style scoped>\n",
       "    .dataframe tbody tr th:only-of-type {\n",
       "        vertical-align: middle;\n",
       "    }\n",
       "\n",
       "    .dataframe tbody tr th {\n",
       "        vertical-align: top;\n",
       "    }\n",
       "\n",
       "    .dataframe thead th {\n",
       "        text-align: right;\n",
       "    }\n",
       "</style>\n",
       "<table border=\"1\" class=\"dataframe\">\n",
       "  <thead>\n",
       "    <tr style=\"text-align: right;\">\n",
       "      <th></th>\n",
       "      <th>ID</th>\n",
       "      <th>Gene</th>\n",
       "      <th>Variation</th>\n",
       "      <th>Class</th>\n",
       "      <th>Text</th>\n",
       "    </tr>\n",
       "  </thead>\n",
       "  <tbody>\n",
       "    <tr>\n",
       "      <th>0</th>\n",
       "      <td>0</td>\n",
       "      <td>FAM58A</td>\n",
       "      <td>Truncating_Mutations</td>\n",
       "      <td>1</td>\n",
       "      <td>cyclin dependent kinases cdks regulate variety...</td>\n",
       "    </tr>\n",
       "    <tr>\n",
       "      <th>1</th>\n",
       "      <td>1</td>\n",
       "      <td>CBL</td>\n",
       "      <td>W802*</td>\n",
       "      <td>2</td>\n",
       "      <td>abstract background non small cell lung cancer...</td>\n",
       "    </tr>\n",
       "    <tr>\n",
       "      <th>2</th>\n",
       "      <td>2</td>\n",
       "      <td>CBL</td>\n",
       "      <td>Q249E</td>\n",
       "      <td>2</td>\n",
       "      <td>abstract background non small cell lung cancer...</td>\n",
       "    </tr>\n",
       "    <tr>\n",
       "      <th>3</th>\n",
       "      <td>3</td>\n",
       "      <td>CBL</td>\n",
       "      <td>N454D</td>\n",
       "      <td>3</td>\n",
       "      <td>recent evidence demonstrated acquired uniparen...</td>\n",
       "    </tr>\n",
       "    <tr>\n",
       "      <th>4</th>\n",
       "      <td>4</td>\n",
       "      <td>CBL</td>\n",
       "      <td>L399V</td>\n",
       "      <td>4</td>\n",
       "      <td>oncogenic mutations monomeric casitas b lineag...</td>\n",
       "    </tr>\n",
       "  </tbody>\n",
       "</table>\n",
       "</div>"
      ],
      "text/plain": [
       "   ID    Gene             Variation  Class  \\\n",
       "0   0  FAM58A  Truncating_Mutations      1   \n",
       "1   1     CBL                 W802*      2   \n",
       "2   2     CBL                 Q249E      2   \n",
       "3   3     CBL                 N454D      3   \n",
       "4   4     CBL                 L399V      4   \n",
       "\n",
       "                                                Text  \n",
       "0  cyclin dependent kinases cdks regulate variety...  \n",
       "1  abstract background non small cell lung cancer...  \n",
       "2  abstract background non small cell lung cancer...  \n",
       "3  recent evidence demonstrated acquired uniparen...  \n",
       "4  oncogenic mutations monomeric casitas b lineag...  "
      ]
     },
     "execution_count": 110,
     "metadata": {},
     "output_type": "execute_result"
    }
   ],
   "source": [
    "merged_data.head()"
   ]
  },
  {
   "cell_type": "code",
   "execution_count": 117,
   "metadata": {},
   "outputs": [],
   "source": [
    "y=merged_data.Class.values"
   ]
  },
  {
   "cell_type": "code",
   "execution_count": 118,
   "metadata": {},
   "outputs": [
    {
     "name": "stdout",
     "output_type": "stream",
     "text": [
      "[1 2 2 ... 1 4 4]\n"
     ]
    }
   ],
   "source": [
    "print(y)"
   ]
  },
  {
   "cell_type": "code",
   "execution_count": 119,
   "metadata": {},
   "outputs": [],
   "source": [
    "X=merged_data"
   ]
  },
  {
   "cell_type": "code",
   "execution_count": 150,
   "metadata": {},
   "outputs": [],
   "source": [
    "#We use stratify in the train test split and not random as we want the same % of classes to be there in train and test data\n",
    "from sklearn.model_selection import train_test_split\n",
    "X_train1,X_test,y_train1,y_test = train_test_split(X,y,test_size=0.2,stratify=y)"
   ]
  },
  {
   "cell_type": "code",
   "execution_count": 151,
   "metadata": {},
   "outputs": [],
   "source": [
    "#Creating cross Validation Set\n",
    "X_train,X_cv,y_train,y_cv = train_test_split(X_train1,y_train1,test_size=0.2,stratify=y_train1)"
   ]
  },
  {
   "cell_type": "code",
   "execution_count": 152,
   "metadata": {},
   "outputs": [
    {
     "data": {
      "text/plain": [
       "<matplotlib.axes._subplots.AxesSubplot at 0x1213591c6a0>"
      ]
     },
     "execution_count": 152,
     "metadata": {},
     "output_type": "execute_result"
    },
    {
     "data": {
      "image/png": "[encoded data removed]",
      "text/plain": [
       "<Figure size 432x288 with 1 Axes>"
      ]
     },
     "metadata": {},
     "output_type": "display_data"
    }
   ],
   "source": [
    "sns.countplot(x=y_test)"
   ]
  },
  {
   "cell_type": "code",
   "execution_count": 153,
   "metadata": {},
   "outputs": [
    {
     "data": {
      "text/plain": [
       "<matplotlib.axes._subplots.AxesSubplot at 0x1213595cf60>"
      ]
     },
     "execution_count": 153,
     "metadata": {},
     "output_type": "execute_result"
    },
    {
     "data": {
      "image/png": "[encoded data removed]",
      "text/plain": [
       "<Figure size 432x288 with 1 Axes>"
      ]
     },
     "metadata": {},
     "output_type": "display_data"
    }
   ],
   "source": [
    "sns.countplot(x=y_train)"
   ]
  },
  {
   "cell_type": "code",
   "execution_count": 180,
   "metadata": {},
   "outputs": [
    {
     "data": {
      "text/plain": [
       "<matplotlib.axes._subplots.AxesSubplot at 0x12135b0c4a8>"
      ]
     },
     "execution_count": 180,
     "metadata": {},
     "output_type": "execute_result"
    },
    {
     "data": {
      "image/png": "[encoded data removed]",
      "text/plain": [
       "<Figure size 432x288 with 1 Axes>"
      ]
     },
     "metadata": {},
     "output_type": "display_data"
    }
   ],
   "source": [
    "sns.countplot(x=y_cv)"
   ]
  },
  {
   "cell_type": "code",
   "execution_count": 137,
   "metadata": {},
   "outputs": [
    {
     "data": {
      "text/plain": [
       "(2124, 5)"
      ]
     },
     "execution_count": 137,
     "metadata": {},
     "output_type": "execute_result"
    }
   ],
   "source": [
    "X_train.shape"
   ]
  },
  {
   "cell_type": "code",
   "execution_count": 129,
   "metadata": {},
   "outputs": [
    {
     "data": {
      "text/plain": [
       "(665, 5)"
      ]
     },
     "execution_count": 129,
     "metadata": {},
     "output_type": "execute_result"
    }
   ],
   "source": [
    "X_test.shape"
   ]
  },
  {
   "cell_type": "code",
   "execution_count": 130,
   "metadata": {},
   "outputs": [
    {
     "data": {
      "text/plain": [
       "(532, 5)"
      ]
     },
     "execution_count": 130,
     "metadata": {},
     "output_type": "execute_result"
    }
   ],
   "source": [
    "X_cv.shape"
   ]
  },
  {
   "cell_type": "code",
   "execution_count": 132,
   "metadata": {},
   "outputs": [
    {
     "data": {
      "text/html": [
       "<div>\n",
       "<style scoped>\n",
       "    .dataframe tbody tr th:only-of-type {\n",
       "        vertical-align: middle;\n",
       "    }\n",
       "\n",
       "    .dataframe tbody tr th {\n",
       "        vertical-align: top;\n",
       "    }\n",
       "\n",
       "    .dataframe thead th {\n",
       "        text-align: right;\n",
       "    }\n",
       "</style>\n",
       "<table border=\"1\" class=\"dataframe\">\n",
       "  <thead>\n",
       "    <tr style=\"text-align: right;\">\n",
       "      <th></th>\n",
       "      <th>ID</th>\n",
       "      <th>Gene</th>\n",
       "      <th>Variation</th>\n",
       "      <th>Class</th>\n",
       "      <th>Text</th>\n",
       "    </tr>\n",
       "  </thead>\n",
       "  <tbody>\n",
       "    <tr>\n",
       "      <th>1516</th>\n",
       "      <td>1516</td>\n",
       "      <td>ALK</td>\n",
       "      <td>E1384K</td>\n",
       "      <td>7</td>\n",
       "      <td>oncogenic property anaplastic lymphoma kinase ...</td>\n",
       "    </tr>\n",
       "    <tr>\n",
       "      <th>2897</th>\n",
       "      <td>2897</td>\n",
       "      <td>BRCA2</td>\n",
       "      <td>K607T</td>\n",
       "      <td>6</td>\n",
       "      <td>purpose rare missense substitutions frame dele...</td>\n",
       "    </tr>\n",
       "    <tr>\n",
       "      <th>2680</th>\n",
       "      <td>2680</td>\n",
       "      <td>BRCA1</td>\n",
       "      <td>M18K</td>\n",
       "      <td>6</td>\n",
       "      <td>germline mutations breast cancer 1 brca1 gene ...</td>\n",
       "    </tr>\n",
       "    <tr>\n",
       "      <th>2809</th>\n",
       "      <td>2809</td>\n",
       "      <td>BRCA2</td>\n",
       "      <td>D1352Y</td>\n",
       "      <td>6</td>\n",
       "      <td>twenty percent individuals strong family perso...</td>\n",
       "    </tr>\n",
       "    <tr>\n",
       "      <th>2590</th>\n",
       "      <td>2590</td>\n",
       "      <td>BRCA1</td>\n",
       "      <td>L28P</td>\n",
       "      <td>6</td>\n",
       "      <td>germline mutations breast cancer 1 brca1 gene ...</td>\n",
       "    </tr>\n",
       "  </tbody>\n",
       "</table>\n",
       "</div>"
      ],
      "text/plain": [
       "        ID   Gene Variation  Class  \\\n",
       "1516  1516    ALK    E1384K      7   \n",
       "2897  2897  BRCA2     K607T      6   \n",
       "2680  2680  BRCA1      M18K      6   \n",
       "2809  2809  BRCA2    D1352Y      6   \n",
       "2590  2590  BRCA1      L28P      6   \n",
       "\n",
       "                                                   Text  \n",
       "1516  oncogenic property anaplastic lymphoma kinase ...  \n",
       "2897  purpose rare missense substitutions frame dele...  \n",
       "2680  germline mutations breast cancer 1 brca1 gene ...  \n",
       "2809  twenty percent individuals strong family perso...  \n",
       "2590  germline mutations breast cancer 1 brca1 gene ...  "
      ]
     },
     "execution_count": 132,
     "metadata": {},
     "output_type": "execute_result"
    }
   ],
   "source": [
    "X_cv.head()"
   ]
  },
  {
   "cell_type": "code",
   "execution_count": 184,
   "metadata": {},
   "outputs": [
    {
     "data": {
      "text/plain": [
       "(532, 235)"
      ]
     },
     "execution_count": 184,
     "metadata": {},
     "output_type": "execute_result"
    }
   ],
   "source": [
    "from sklearn.feature_extraction.text import CountVectorizer\n",
    "from sklearn.preprocessing import OneHotEncoder, LabelEncoder\n",
    "\n",
    "cv = CountVectorizer()\n",
    "le = LabelEncoder()\n",
    "ohe = OneHotEncoder()\n",
    "\n",
    "cv_gene_train = cv.fit_transform(X_train['Gene'])\n",
    "cv_gene_test = cv.transform(X_test['Gene'])\n",
    "cv_gene_cv = cv.transform(X_cv['Gene'])\n",
    "cv_gene_cv.shape\n"
   ]
  },
  {
   "cell_type": "markdown",
   "metadata": {},
   "source": [
    "## Executing SGD Classifier and Calibrated Classifier (To get probability out of SGD) to just Gene field"
   ]
  },
  {
   "cell_type": "code",
   "execution_count": 197,
   "metadata": {},
   "outputs": [
    {
     "name": "stdout",
     "output_type": "stream",
     "text": [
      "Value of Alpha is:1e-06 its Logloss is :1.2010426481257523\n",
      "Value of Alpha is:1e-05 its Logloss is :1.180548253326079\n",
      "Value of Alpha is:0.0001 its Logloss is :1.1697891290855822\n",
      "Value of Alpha is:0.001 its Logloss is :1.2140594961601656\n",
      "Value of Alpha is:0.01 its Logloss is :1.326242618708104\n",
      "Value of Alpha is:0.1 its Logloss is :1.416471887169246\n",
      "Value of Alpha is:1 its Logloss is :1.4632743222463458\n",
      "Value of Alpha is:10 its Logloss is :1.469975504047732\n",
      "Value of Alpha is:100 its Logloss is :1.4708646923808086\n"
     ]
    }
   ],
   "source": [
    "#To not display Warning messages use the below 2 lines\n",
    "import warnings\n",
    "warnings.filterwarnings(\"ignore\")\n",
    "from sklearn.linear_model import SGDClassifier\n",
    "from sklearn.calibration import CalibratedClassifierCV\n",
    "from sklearn.metrics import log_loss\n",
    "\n",
    "for alpha in [0.000001,0.00001,0.0001,0.001,0.01,0.1,1,10,100]:\n",
    "    sgd_model = SGDClassifier(loss='log',alpha=alpha,max_iter=1000,tol=None)\n",
    "    calib_model = CalibratedClassifierCV(base_estimator=sgd_model,method='sigmoid')\n",
    "\n",
    "    sgd_model.fit(cv_gene_train,y_train)\n",
    "\n",
    "    calib_model.fit(cv_gene_train,y_train)\n",
    "\n",
    "    predict_y = calib_model.predict_proba(cv_gene_cv)\n",
    "    print(\"Value of Alpha is:\"+str(alpha)+\" its Logloss is :\"+str(log_loss(y_cv,predict_y)))\n",
    "    "
   ]
  },
  {
   "cell_type": "code",
   "execution_count": 202,
   "metadata": {},
   "outputs": [
    {
     "name": "stdout",
     "output_type": "stream",
     "text": [
      "Logloss for Train is :0.9997870558759612\n",
      "Logloss for CV is :1.169807325458577\n",
      "Logloss for Test is :1.1952809925890648\n"
     ]
    }
   ],
   "source": [
    "#get log loss for train, test and CV for Alpha = 0.0001 (best above)\n",
    "\n",
    "sgd_model = SGDClassifier(loss='log',alpha=0.0001,max_iter=1000,tol=None)\n",
    "calib_model = CalibratedClassifierCV(base_estimator=sgd_model,method='sigmoid')\n",
    "\n",
    "sgd_model.fit(cv_gene_train,y_train)\n",
    "calib_model.fit(cv_gene_train,y_train)\n",
    "    \n",
    "predict_y = calib_model.predict_proba(cv_gene_train)\n",
    "print(\"Logloss for Train is :\"+str(log_loss(y_train,predict_y)))\n",
    "predict_y = calib_model.predict_proba(cv_gene_cv)\n",
    "print(\"Logloss for CV is :\"+str(log_loss(y_cv,predict_y)))\n",
    "predict_y = calib_model.predict_proba(cv_gene_test)\n",
    "print(\"Logloss for Test is :\"+str(log_loss(y_test,predict_y)))\n",
    "\n"
   ]
  },
  {
   "cell_type": "code",
   "execution_count": 207,
   "metadata": {},
   "outputs": [
    {
     "data": {
      "text/plain": [
       "(532, 1967)"
      ]
     },
     "execution_count": 207,
     "metadata": {},
     "output_type": "execute_result"
    }
   ],
   "source": [
    "from sklearn.feature_extraction.text import CountVectorizer\n",
    "\n",
    "cv = CountVectorizer()\n",
    "\n",
    "cv_variation_train = cv.fit_transform(X_train['Variation'])\n",
    "cv_variation_test = cv.transform(X_test['Variation'])\n",
    "cv_variation_cv = cv.transform(X_cv['Variation'])\n",
    "cv_variation_cv.shape"
   ]
  },
  {
   "cell_type": "code",
   "execution_count": 209,
   "metadata": {},
   "outputs": [
    {
     "name": "stdout",
     "output_type": "stream",
     "text": [
      "Value of Alpha is:1e-06 its Logloss is :1.6921372586522256\n",
      "Value of Alpha is:1e-05 its Logloss is :1.6897435655810737\n",
      "Value of Alpha is:0.0001 its Logloss is :1.6847886827409004\n",
      "Value of Alpha is:0.001 its Logloss is :1.6857074818228526\n",
      "Value of Alpha is:0.01 its Logloss is :1.6944579871101069\n",
      "Value of Alpha is:0.1 its Logloss is :1.7168255440068503\n",
      "Value of Alpha is:1 its Logloss is :1.7246608293021317\n",
      "Value of Alpha is:10 its Logloss is :1.7254511447879042\n",
      "Value of Alpha is:100 its Logloss is :1.7255825826303197\n"
     ]
    }
   ],
   "source": [
    "from sklearn.linear_model import SGDClassifier\n",
    "from sklearn.calibration import CalibratedClassifierCV\n",
    "from sklearn.metrics import log_loss\n",
    "\n",
    "for alpha in [0.000001,0.00001,0.0001,0.001,0.01,0.1,1,10,100]:\n",
    "    sgd_model = SGDClassifier(loss='log',alpha=alpha,max_iter=1000,tol=None)\n",
    "    calib_model = CalibratedClassifierCV(base_estimator=sgd_model,method='sigmoid')\n",
    "\n",
    "    calib_model.fit(cv_variation_train,y_train)\n",
    "\n",
    "    predict_y = calib_model.predict_proba(cv_variation_cv)\n",
    "    print(\"Value of Alpha is:\"+str(alpha)+\" its Logloss is :\"+str(log_loss(y_cv,predict_y)))"
   ]
  },
  {
   "cell_type": "code",
   "execution_count": 211,
   "metadata": {},
   "outputs": [
    {
     "name": "stdout",
     "output_type": "stream",
     "text": [
      "Logloss for Train is :0.7983152091540072\n",
      "Logloss for CV is :1.6847867255064528\n",
      "Logloss for Test is :1.7357372555294175\n"
     ]
    }
   ],
   "source": [
    "#get log loss for train, test and CV for Alpha = 0.0001 (best above)\n",
    "\n",
    "sgd_model = SGDClassifier(loss='log',alpha=0.0001,max_iter=1000,tol=None)\n",
    "calib_model = CalibratedClassifierCV(base_estimator=sgd_model,method='sigmoid')\n",
    "\n",
    "#we dont need to fit SGD model seperately as it is embedded inside calib model\n",
    "calib_model.fit(cv_variation_train,y_train)\n",
    "    \n",
    "predict_y = calib_model.predict_proba(cv_variation_train)\n",
    "print(\"Logloss for Train is :\"+str(log_loss(y_train,predict_y)))\n",
    "predict_y = calib_model.predict_proba(cv_variation_cv)\n",
    "print(\"Logloss for CV is :\"+str(log_loss(y_cv,predict_y)))\n",
    "predict_y = calib_model.predict_proba(cv_variation_test)\n",
    "print(\"Logloss for Test is :\"+str(log_loss(y_test,predict_y)))\n"
   ]
  },
  {
   "cell_type": "code",
   "execution_count": 214,
   "metadata": {},
   "outputs": [
    {
     "data": {
      "text/plain": [
       "(532, 53077)"
      ]
     },
     "execution_count": 214,
     "metadata": {},
     "output_type": "execute_result"
    }
   ],
   "source": [
    "from sklearn.feature_extraction.text import CountVectorizer\n",
    "\n",
    "text_cv = CountVectorizer(min_df=3)\n",
    "\n",
    "cv_text_train = text_cv.fit_transform(X_train['Text'])\n",
    "cv_text_test = text_cv.transform(X_test['Text'])\n",
    "cv_text_cv = text_cv.transform(X_cv['Text'])\n",
    "cv_text_cv.shape"
   ]
  },
  {
   "cell_type": "code",
   "execution_count": 215,
   "metadata": {},
   "outputs": [
    {
     "name": "stdout",
     "output_type": "stream",
     "text": [
      "Value of Alpha is:0.0001 its Logloss is :1.3096627976027757\n",
      "Value of Alpha is:0.001 its Logloss is :1.3225512978248155\n",
      "Value of Alpha is:0.01 its Logloss is :1.2787904373133927\n",
      "Value of Alpha is:0.1 its Logloss is :1.1734805468972214\n",
      "Value of Alpha is:1 its Logloss is :1.1516398260090535\n",
      "Value of Alpha is:10 its Logloss is :1.177914439834381\n",
      "Value of Alpha is:100 its Logloss is :1.2943870781372522\n"
     ]
    }
   ],
   "source": [
    "from sklearn.linear_model import SGDClassifier\n",
    "from sklearn.calibration import CalibratedClassifierCV\n",
    "from sklearn.metrics import log_loss\n",
    "\n",
    "for alpha in [0.0001,0.001,0.01,0.1,1,10,100]:\n",
    "    sgd_model = SGDClassifier(loss='log',alpha=alpha,max_iter=1000,tol=None)\n",
    "    calib_model = CalibratedClassifierCV(base_estimator=sgd_model,method='sigmoid')\n",
    "\n",
    "    calib_model.fit(cv_text_train,y_train)\n",
    "\n",
    "    predict_y = calib_model.predict_proba(cv_text_cv)\n",
    "    print(\"Value of Alpha is:\"+str(alpha)+\" its Logloss is :\"+str(log_loss(y_cv,predict_y)))"
   ]
  },
  {
   "cell_type": "code",
   "execution_count": 225,
   "metadata": {},
   "outputs": [],
   "source": [
    "def get_log_loss(X_train,X_test,y_train,y_test,model):\n",
    "    cal_model = CalibratedClassifierCV(base_estimator = model, method = 'sigmoid')\n",
    "    \n",
    "    cal_model.fit(X_train,y_train)\n",
    "    y_pred = cal_model.predict_proba(X_test)\n",
    "    \n",
    "    return(log_loss(y_test,y_pred))"
   ]
  },
  {
   "cell_type": "markdown",
   "metadata": {},
   "source": [
    "# Combining the 3 features to for stacked final X"
   ]
  },
  {
   "cell_type": "code",
   "execution_count": 221,
   "metadata": {},
   "outputs": [
    {
     "name": "stdout",
     "output_type": "stream",
     "text": [
      "(2124, 55279)\n",
      "(532, 55279)\n",
      "(665, 55279)\n"
     ]
    }
   ],
   "source": [
    "from scipy.sparse import hstack\n",
    "X_train_ohe = hstack([cv_gene_train,cv_variation_train,cv_text_train])\n",
    "X_cv_ohe = hstack([cv_gene_cv,cv_variation_cv,cv_text_cv])\n",
    "X_test_ohe = hstack([cv_gene_test,cv_variation_test,cv_text_test])\n",
    "\n",
    "print(X_train_ohe.shape)\n",
    "print(X_cv_ohe.shape)\n",
    "print(X_test_ohe.shape)"
   ]
  },
  {
   "cell_type": "markdown",
   "metadata": {},
   "source": [
    "# Trying Various machine learning models to get optimal log loss"
   ]
  },
  {
   "cell_type": "markdown",
   "metadata": {},
   "source": [
    "## Naive Bayes"
   ]
  },
  {
   "cell_type": "code",
   "execution_count": 228,
   "metadata": {},
   "outputs": [
    {
     "name": "stdout",
     "output_type": "stream",
     "text": [
      "Value of Alpha is:0.0001 its Logloss is :1.2697563505857408\n",
      "Value of Alpha is:0.001 its Logloss is :1.2841696313184903\n",
      "Value of Alpha is:0.01 its Logloss is :1.285857385710172\n",
      "Value of Alpha is:0.1 its Logloss is :1.278851844558869\n",
      "Value of Alpha is:1 its Logloss is :1.2933769962227357\n",
      "Value of Alpha is:10 its Logloss is :1.3781198684914007\n",
      "Value of Alpha is:100 its Logloss is :1.6873676343265525\n"
     ]
    }
   ],
   "source": [
    "from sklearn.naive_bayes import MultinomialNB\n",
    "from sklearn.calibration import CalibratedClassifierCV\n",
    "from sklearn.metrics import log_loss\n",
    "\n",
    "for alpha in [0.0001,0.001,0.01,0.1,1,10,100]:\n",
    "    base_model = MultinomialNB(alpha=alpha)\n",
    "    calib_model = CalibratedClassifierCV(base_estimator=base_model, method='sigmoid')\n",
    "\n",
    "    calib_model.fit(X_train_ohe,y_train)\n",
    "\n",
    "    y_pred = calib_model.predict_proba(X_cv_ohe)\n",
    "    print(\"Value of Alpha is:\"+str(alpha)+\" its Logloss is :\"+str(log_loss(y_cv,y_pred)))"
   ]
  },
  {
   "cell_type": "markdown",
   "metadata": {},
   "source": [
    "### Calculating Log Loss for test and CV  using best Alpha"
   ]
  },
  {
   "cell_type": "code",
   "execution_count": 231,
   "metadata": {},
   "outputs": [
    {
     "name": "stdout",
     "output_type": "stream",
     "text": [
      "Value of Alpha is:0.1 its Logloss for Train is :1.0078860029174828\n",
      "Value of Alpha is:0.1 its Logloss for CV is :1.278851844558869\n",
      "Value of Alpha is:0.1 its Logloss for Test is :1.3044806587056048\n"
     ]
    }
   ],
   "source": [
    "from sklearn.naive_bayes import MultinomialNB\n",
    "from sklearn.calibration import CalibratedClassifierCV\n",
    "from sklearn.metrics import log_loss\n",
    "\n",
    "alpha = 0.1\n",
    "\n",
    "base_model = MultinomialNB(alpha=alpha)\n",
    "calib_model = CalibratedClassifierCV(base_estimator=base_model, method='sigmoid')\n",
    "\n",
    "calib_model.fit(X_train_ohe,y_train)\n",
    "\n",
    "y_pred = calib_model.predict_proba(X_train_ohe)\n",
    "print(\"Value of Alpha is:\"+str(alpha)+\" its Logloss for Train is :\"+str(log_loss(y_train,y_pred)))\n",
    "y_pred = calib_model.predict_proba(X_cv_ohe)\n",
    "print(\"Value of Alpha is:\"+str(alpha)+\" its Logloss for CV is :\"+str(log_loss(y_cv,y_pred)))\n",
    "y_pred = calib_model.predict_proba(X_test_ohe)\n",
    "print(\"Value of Alpha is:\"+str(alpha)+\" its Logloss for Test is :\"+str(log_loss(y_test,y_pred)))"
   ]
  },
  {
   "cell_type": "markdown",
   "metadata": {},
   "source": [
    "## KNN"
   ]
  },
  {
   "cell_type": "code",
   "execution_count": 229,
   "metadata": {},
   "outputs": [
    {
     "name": "stdout",
     "output_type": "stream",
     "text": [
      "Value of Alpha is:3 its Logloss is :1.2474923858346927\n",
      "Value of Alpha is:5 its Logloss is :1.273955615689236\n",
      "Value of Alpha is:11 its Logloss is :1.3099404362179219\n",
      "Value of Alpha is:15 its Logloss is :1.3371163258374714\n",
      "Value of Alpha is:21 its Logloss is :1.3656946344090053\n",
      "Value of Alpha is:25 its Logloss is :1.3802224161342944\n",
      "Value of Alpha is:31 its Logloss is :1.3937243491516702\n",
      "Value of Alpha is:35 its Logloss is :1.4051027951969353\n",
      "Value of Alpha is:51 its Logloss is :1.4394446399024912\n",
      "Value of Alpha is:91 its Logloss is :1.4769082573342291\n",
      "Value of Alpha is:101 its Logloss is :1.4887776227076785\n"
     ]
    }
   ],
   "source": [
    "from sklearn.neighbors import KNeighborsClassifier\n",
    "\n",
    "for alpha in [3,5,11,15,21,25,31,35,51,91,101]:\n",
    "    base_model = KNeighborsClassifier(n_neighbors=alpha)\n",
    "    calib_model = CalibratedClassifierCV(base_estimator=base_model, method='sigmoid')\n",
    "\n",
    "    calib_model.fit(X_train_ohe,y_train)\n",
    "\n",
    "    y_pred = calib_model.predict_proba(X_cv_ohe)\n",
    "    print(\"Value of Alpha is:\"+str(alpha)+\" its Logloss is :\"+str(log_loss(y_cv,y_pred)))"
   ]
  },
  {
   "cell_type": "code",
   "execution_count": 232,
   "metadata": {},
   "outputs": [
    {
     "name": "stdout",
     "output_type": "stream",
     "text": [
      "Value of Alpha is:11 its Logloss for Train is :1.1250515372272583\n",
      "Value of Alpha is:11 its Logloss for CV is :1.3099404362179219\n",
      "Value of Alpha is:11 its Logloss for Test is :1.2987107886574805\n"
     ]
    }
   ],
   "source": [
    "from sklearn.naive_bayes import MultinomialNB\n",
    "from sklearn.calibration import CalibratedClassifierCV\n",
    "from sklearn.metrics import log_loss\n",
    "\n",
    "alpha = 11\n",
    "\n",
    "base_model = KNeighborsClassifier(n_neighbors=alpha)\n",
    "calib_model = CalibratedClassifierCV(base_estimator=base_model, method='sigmoid')\n",
    "\n",
    "calib_model.fit(X_train_ohe,y_train)\n",
    "\n",
    "y_pred = calib_model.predict_proba(X_train_ohe)\n",
    "print(\"Value of Alpha is:\"+str(alpha)+\" its Logloss for Train is :\"+str(log_loss(y_train,y_pred)))\n",
    "y_pred = calib_model.predict_proba(X_cv_ohe)\n",
    "print(\"Value of Alpha is:\"+str(alpha)+\" its Logloss for CV is :\"+str(log_loss(y_cv,y_pred)))\n",
    "y_pred = calib_model.predict_proba(X_test_ohe)\n",
    "print(\"Value of Alpha is:\"+str(alpha)+\" its Logloss for Test is :\"+str(log_loss(y_test,y_pred)))"
   ]
  },
  {
   "cell_type": "markdown",
   "metadata": {},
   "source": [
    "## Logistic Regression - Balanced Class weight"
   ]
  },
  {
   "cell_type": "code",
   "execution_count": 234,
   "metadata": {},
   "outputs": [
    {
     "name": "stdout",
     "output_type": "stream",
     "text": [
      "Value of Alpha is:0.0001 its Logloss is :1.314112062266432\n",
      "Value of Alpha is:0.001 its Logloss is :1.3060885504475845\n",
      "Value of Alpha is:0.01 its Logloss is :1.2759842889273074\n",
      "Value of Alpha is:0.1 its Logloss is :1.1688850637131516\n",
      "Value of Alpha is:1 its Logloss is :1.1474882313329104\n",
      "Value of Alpha is:10 its Logloss is :1.1752471398164033\n",
      "Value of Alpha is:100 its Logloss is :1.3089566514938429\n"
     ]
    }
   ],
   "source": [
    "from sklearn.linear_model import SGDClassifier\n",
    "\n",
    "for alpha in [0.0001,0.001,0.01,0.1,1,10,100]:\n",
    "    base_model = SGDClassifier(loss='log',alpha=alpha, max_iter = 1000, class_weight = 'balanced')\n",
    "    calib_model = CalibratedClassifierCV(base_estimator=base_model, method='sigmoid')\n",
    "\n",
    "    calib_model.fit(X_train_ohe,y_train)\n",
    "\n",
    "    y_pred = calib_model.predict_proba(X_cv_ohe)\n",
    "    print(\"Value of Alpha is:\"+str(alpha)+\" its Logloss is :\"+str(log_loss(y_cv,y_pred)))"
   ]
  },
  {
   "cell_type": "code",
   "execution_count": 239,
   "metadata": {},
   "outputs": [
    {
     "name": "stdout",
     "output_type": "stream",
     "text": [
      "Value of Alpha is:1 its Logloss for Train is :0.7742085106742166\n",
      "Value of Alpha is:1 its Logloss for CV is :1.1467572148370693\n",
      "Value of Alpha is:1 its Logloss for Test is :1.1839966537821676\n"
     ]
    }
   ],
   "source": [
    "from sklearn.linear_model import SGDClassifier\n",
    "from sklearn.calibration import CalibratedClassifierCV\n",
    "from sklearn.metrics import log_loss\n",
    "\n",
    "alpha = 1\n",
    "\n",
    "base_model = SGDClassifier(loss='log',alpha=alpha, max_iter = 1000, class_weight = 'balanced')\n",
    "calib_model = CalibratedClassifierCV(base_estimator=base_model, method='sigmoid')\n",
    "\n",
    "calib_model.fit(X_train_ohe,y_train)\n",
    "\n",
    "y_pred = calib_model.predict_proba(X_train_ohe)\n",
    "print(\"Value of Alpha is:\"+str(alpha)+\" its Logloss for Train is :\"+str(log_loss(y_train,y_pred)))\n",
    "y_pred = calib_model.predict_proba(X_cv_ohe)\n",
    "print(\"Value of Alpha is:\"+str(alpha)+\" its Logloss for CV is :\"+str(log_loss(y_cv,y_pred)))\n",
    "y_pred = calib_model.predict_proba(X_test_ohe)\n",
    "print(\"Value of Alpha is:\"+str(alpha)+\" its Logloss for Test is :\"+str(log_loss(y_test,y_pred)))"
   ]
  },
  {
   "cell_type": "markdown",
   "metadata": {},
   "source": [
    "## Logistic Regression - no balancing"
   ]
  },
  {
   "cell_type": "code",
   "execution_count": 235,
   "metadata": {},
   "outputs": [
    {
     "name": "stdout",
     "output_type": "stream",
     "text": [
      "Value of Alpha is:0.0001 its Logloss is :1.311171713379975\n",
      "Value of Alpha is:0.001 its Logloss is :1.3059598917605175\n",
      "Value of Alpha is:0.01 its Logloss is :1.2818422194733738\n",
      "Value of Alpha is:0.1 its Logloss is :1.1726981137874666\n",
      "Value of Alpha is:1 its Logloss is :1.15172072016878\n",
      "Value of Alpha is:10 its Logloss is :1.1779264981450221\n",
      "Value of Alpha is:100 its Logloss is :1.2943927201853942\n"
     ]
    }
   ],
   "source": [
    "from sklearn.linear_model import SGDClassifier\n",
    "\n",
    "for alpha in [0.0001,0.001,0.01,0.1,1,10,100]:\n",
    "    base_model = SGDClassifier(loss='log',alpha=alpha, max_iter = 1000)\n",
    "    calib_model = CalibratedClassifierCV(base_estimator=base_model, method='sigmoid')\n",
    "\n",
    "    calib_model.fit(X_train_ohe,y_train)\n",
    "\n",
    "    y_pred = calib_model.predict_proba(X_cv_ohe)\n",
    "    print(\"Value of Alpha is:\"+str(alpha)+\" its Logloss is :\"+str(log_loss(y_cv,y_pred)))"
   ]
  },
  {
   "cell_type": "code",
   "execution_count": 240,
   "metadata": {},
   "outputs": [
    {
     "name": "stdout",
     "output_type": "stream",
     "text": [
      "Value of Alpha is:1 its Logloss for Train is :0.7777615294865157\n",
      "Value of Alpha is:1 its Logloss for CV is :1.1519808566389202\n",
      "Value of Alpha is:1 its Logloss for Test is :1.1825423888135564\n"
     ]
    }
   ],
   "source": [
    "from sklearn.linear_model import SGDClassifier\n",
    "from sklearn.calibration import CalibratedClassifierCV\n",
    "from sklearn.metrics import log_loss\n",
    "\n",
    "alpha = 1\n",
    "\n",
    "base_model = SGDClassifier(loss='log',alpha=alpha, max_iter = 1000)\n",
    "calib_model = CalibratedClassifierCV(base_estimator=base_model, method='sigmoid')\n",
    "\n",
    "calib_model.fit(X_train_ohe,y_train)\n",
    "\n",
    "y_pred = calib_model.predict_proba(X_train_ohe)\n",
    "print(\"Value of Alpha is:\"+str(alpha)+\" its Logloss for Train is :\"+str(log_loss(y_train,y_pred)))\n",
    "y_pred = calib_model.predict_proba(X_cv_ohe)\n",
    "print(\"Value of Alpha is:\"+str(alpha)+\" its Logloss for CV is :\"+str(log_loss(y_cv,y_pred)))\n",
    "y_pred = calib_model.predict_proba(X_test_ohe)\n",
    "print(\"Value of Alpha is:\"+str(alpha)+\" its Logloss for Test is :\"+str(log_loss(y_test,y_pred)))"
   ]
  },
  {
   "cell_type": "code",
   "execution_count": null,
   "metadata": {},
   "outputs": [],
   "source": []
  }
 ],
 "metadata": {
  "kernelspec": {
   "display_name": "Python 3",
   "language": "python",
   "name": "python3"
  },
  "language_info": {
   "codemirror_mode": {
    "name": "ipython",
    "version": 3
   },
   "file_extension": ".py",
   "mimetype": "text/x-python",
   "name": "python",
   "nbconvert_exporter": "python",
   "pygments_lexer": "ipython3",
   "version": "3.6.5"
  }
 },
 "nbformat": 4,
 "nbformat_minor": 2
}
